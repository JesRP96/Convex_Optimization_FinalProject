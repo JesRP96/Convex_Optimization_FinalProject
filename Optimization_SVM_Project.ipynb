{
  "cells": [
    {
      "cell_type": "markdown",
      "source": [
        "# Instituto Tecnológico y de Estudios Superiores de Occidente\n",
        "## Master in Data Science\n",
        "## Convex Optimization\n",
        "## Final Project\n",
        "## Psychological treatment prediction\n",
        "\n",
        "### Professor: \n",
        "- Dr. Juan Diego Sanchez Torres\n",
        "\n",
        "### Team: \n",
        "- María Elisa Vaca Gómez \n",
        "- Alejandra Paola Galindo Hernández\n",
        "- Jesús Rodrigo Ponce González\n",
        "- Aldo Emmanuel Villarreal Palomino"
      ],
      "metadata": {
        "id": "BBqyQxfYnBbP"
      }
    },
    {
      "cell_type": "code",
      "execution_count": null,
      "metadata": {
        "id": "fppoAOIkzVlo"
      },
      "outputs": [],
      "source": [
        "import numpy as np\n",
        "import pandas as pd\n",
        "import seaborn as sns\n",
        "from sklearn.preprocessing import LabelEncoder\n",
        "import matplotlib.pyplot as plt\n",
        "import missingno as ms\n",
        "from sklearn.model_selection import train_test_split\n",
        "from sklearn.model_selection import GridSearchCV\n",
        "from sklearn.svm import SVC\n",
        "from sklearn.preprocessing import StandardScaler\n",
        "from sklearn import svm\n",
        "from sklearn.metrics import confusion_matrix\n",
        "from sklearn.metrics import classification_report"
      ]
    },
    {
      "cell_type": "markdown",
      "source": [
        "## Problem Description\n",
        "\n",
        "The following survey was conducted to employees who work in the IT department, the main purpose of the survey is to understand the mental health status within the same department. The data was obtained from Mental Health in Tech Survey\n",
        "\n",
        "The project’s main purpose is to test **Support Vector Classifier** with different kernel to predict if a person will receive treatment or not, given the survey’s variables and by identifying which ones are more relevant.\n",
        "\n"
      ],
      "metadata": {
        "id": "DtepzmOmHn2y"
      }
    },
    {
      "cell_type": "markdown",
      "source": [
        "## Variables"
      ],
      "metadata": {
        "id": "eJU4a5qKtOJ3"
      }
    },
    {
      "cell_type": "markdown",
      "source": [
        "### Outcome variable\n",
        "- **treatment:** Have you sought treatment for a mental health condition?"
      ],
      "metadata": {
        "id": "ts9yDSBA1IE4"
      }
    },
    {
      "cell_type": "markdown",
      "source": [
        "### Predictive variables\n",
        "- **Timestamp**\n",
        "- **Age**\n",
        "- **Gender**\n",
        "- **Country**\n",
        "- **state:** If you live in the United States, which state or territory do you live in?\n",
        "- **self_employed:** Are you self-employed?\n",
        "- **family_history:** Do you have a family history of mental illness?\n",
        "- **work_interfere:** If you have a mental health condition, do you feel that it interferes with your work?\n",
        "- **no_employees:** How many employees does your company or organization have?\n",
        "- **remote_work:** Do you work remotely (outside of an office) at least 50% of the time?\n",
        "- **tech_company:** Is your employer primarily a tech company/organization?\n",
        "- **benefits:** Does your employer provide mental health benefits?\n",
        "- **care_options:** Do you know the options for mental health care your employer provides?\n",
        "- **wellness_program:** Has your employer ever discussed mental health as part of an employee wellness program?\n",
        "- **seek_help:** Does your employer provide resources to learn more about mental health issues and how to seek help?\n",
        "- **anonymity:** Is your anonymity protected if you choose to take advantage of mental health or substance abuse treatment resources?\n",
        "- **leave:** How easy is it for you to take medical leave for a mental health condition?\n",
        "- **mentalhealthconsequence:** Do you think that discussing a mental health issue with your employer would have negative consequences?\n",
        "- **physhealthconsequence:** Do you think that discussing a physical health issue with your employer would have negative consequences?\n",
        "- **coworkers:** Would you be willing to discuss a mental health issue with your coworkers?\n",
        "- **supervisor:** Would you be willing to discuss a mental health issue with your direct supervisor(s)?\n",
        "- **mentalhealthinterview:** Would you bring up a mental health issue with a potential employer in an interview?\n",
        "- **physhealthinterview:** Would you bring up a physical health issue with a potential employer in an interview?\n",
        "- **mentalvsphysical:** Do you feel that your employer takes mental health as seriously as physical health?\n",
        "- **obs_consequence:** Have you heard of or observed negative consequences for coworkers with mental health conditions in your workplace?\n",
        "- **comments:** Any additional notes or comments\n"
      ],
      "metadata": {
        "id": "olEp2Ov302YE"
      }
    },
    {
      "cell_type": "markdown",
      "source": [
        "## Survey Database"
      ],
      "metadata": {
        "id": "o9_AGCWdtbL4"
      }
    },
    {
      "cell_type": "code",
      "execution_count": null,
      "metadata": {
        "id": "3gcMAqm8zfg8",
        "colab": {
          "base_uri": "https://localhost:8080/",
          "height": 473
        },
        "outputId": "7d26de78-335f-4745-e9c9-0e036246a7c3"
      },
      "outputs": [
        {
          "output_type": "execute_result",
          "data": {
            "text/plain": [
              "             Timestamp  Age  Gender         Country state self_employed  \\\n",
              "0  2014-08-27 11:29:31   37  Female   United States    IL           NaN   \n",
              "1  2014-08-27 11:29:37   44       M   United States    IN           NaN   \n",
              "2  2014-08-27 11:29:44   32    Male          Canada   NaN           NaN   \n",
              "3  2014-08-27 11:29:46   31    Male  United Kingdom   NaN           NaN   \n",
              "4  2014-08-27 11:30:22   31    Male   United States    TX           NaN   \n",
              "\n",
              "  family_history treatment work_interfere    no_employees  ...  \\\n",
              "0             No       Yes          Often            6-25  ...   \n",
              "1             No        No         Rarely  More than 1000  ...   \n",
              "2             No        No         Rarely            6-25  ...   \n",
              "3            Yes       Yes          Often          26-100  ...   \n",
              "4             No        No          Never         100-500  ...   \n",
              "\n",
              "                leave mental_health_consequence phys_health_consequence  \\\n",
              "0       Somewhat easy                        No                      No   \n",
              "1          Don't know                     Maybe                      No   \n",
              "2  Somewhat difficult                        No                      No   \n",
              "3  Somewhat difficult                       Yes                     Yes   \n",
              "4          Don't know                        No                      No   \n",
              "\n",
              "      coworkers supervisor mental_health_interview phys_health_interview  \\\n",
              "0  Some of them        Yes                      No                 Maybe   \n",
              "1            No         No                      No                    No   \n",
              "2           Yes        Yes                     Yes                   Yes   \n",
              "3  Some of them         No                   Maybe                 Maybe   \n",
              "4  Some of them        Yes                     Yes                   Yes   \n",
              "\n",
              "  mental_vs_physical obs_consequence comments  \n",
              "0                Yes              No      NaN  \n",
              "1         Don't know              No      NaN  \n",
              "2                 No              No      NaN  \n",
              "3                 No             Yes      NaN  \n",
              "4         Don't know              No      NaN  \n",
              "\n",
              "[5 rows x 27 columns]"
            ],
            "text/html": [
              "\n",
              "  <div id=\"df-5448dc13-0b25-42bf-85c5-0fa4f89bcc03\">\n",
              "    <div class=\"colab-df-container\">\n",
              "      <div>\n",
              "<style scoped>\n",
              "    .dataframe tbody tr th:only-of-type {\n",
              "        vertical-align: middle;\n",
              "    }\n",
              "\n",
              "    .dataframe tbody tr th {\n",
              "        vertical-align: top;\n",
              "    }\n",
              "\n",
              "    .dataframe thead th {\n",
              "        text-align: right;\n",
              "    }\n",
              "</style>\n",
              "<table border=\"1\" class=\"dataframe\">\n",
              "  <thead>\n",
              "    <tr style=\"text-align: right;\">\n",
              "      <th></th>\n",
              "      <th>Timestamp</th>\n",
              "      <th>Age</th>\n",
              "      <th>Gender</th>\n",
              "      <th>Country</th>\n",
              "      <th>state</th>\n",
              "      <th>self_employed</th>\n",
              "      <th>family_history</th>\n",
              "      <th>treatment</th>\n",
              "      <th>work_interfere</th>\n",
              "      <th>no_employees</th>\n",
              "      <th>...</th>\n",
              "      <th>leave</th>\n",
              "      <th>mental_health_consequence</th>\n",
              "      <th>phys_health_consequence</th>\n",
              "      <th>coworkers</th>\n",
              "      <th>supervisor</th>\n",
              "      <th>mental_health_interview</th>\n",
              "      <th>phys_health_interview</th>\n",
              "      <th>mental_vs_physical</th>\n",
              "      <th>obs_consequence</th>\n",
              "      <th>comments</th>\n",
              "    </tr>\n",
              "  </thead>\n",
              "  <tbody>\n",
              "    <tr>\n",
              "      <th>0</th>\n",
              "      <td>2014-08-27 11:29:31</td>\n",
              "      <td>37</td>\n",
              "      <td>Female</td>\n",
              "      <td>United States</td>\n",
              "      <td>IL</td>\n",
              "      <td>NaN</td>\n",
              "      <td>No</td>\n",
              "      <td>Yes</td>\n",
              "      <td>Often</td>\n",
              "      <td>6-25</td>\n",
              "      <td>...</td>\n",
              "      <td>Somewhat easy</td>\n",
              "      <td>No</td>\n",
              "      <td>No</td>\n",
              "      <td>Some of them</td>\n",
              "      <td>Yes</td>\n",
              "      <td>No</td>\n",
              "      <td>Maybe</td>\n",
              "      <td>Yes</td>\n",
              "      <td>No</td>\n",
              "      <td>NaN</td>\n",
              "    </tr>\n",
              "    <tr>\n",
              "      <th>1</th>\n",
              "      <td>2014-08-27 11:29:37</td>\n",
              "      <td>44</td>\n",
              "      <td>M</td>\n",
              "      <td>United States</td>\n",
              "      <td>IN</td>\n",
              "      <td>NaN</td>\n",
              "      <td>No</td>\n",
              "      <td>No</td>\n",
              "      <td>Rarely</td>\n",
              "      <td>More than 1000</td>\n",
              "      <td>...</td>\n",
              "      <td>Don't know</td>\n",
              "      <td>Maybe</td>\n",
              "      <td>No</td>\n",
              "      <td>No</td>\n",
              "      <td>No</td>\n",
              "      <td>No</td>\n",
              "      <td>No</td>\n",
              "      <td>Don't know</td>\n",
              "      <td>No</td>\n",
              "      <td>NaN</td>\n",
              "    </tr>\n",
              "    <tr>\n",
              "      <th>2</th>\n",
              "      <td>2014-08-27 11:29:44</td>\n",
              "      <td>32</td>\n",
              "      <td>Male</td>\n",
              "      <td>Canada</td>\n",
              "      <td>NaN</td>\n",
              "      <td>NaN</td>\n",
              "      <td>No</td>\n",
              "      <td>No</td>\n",
              "      <td>Rarely</td>\n",
              "      <td>6-25</td>\n",
              "      <td>...</td>\n",
              "      <td>Somewhat difficult</td>\n",
              "      <td>No</td>\n",
              "      <td>No</td>\n",
              "      <td>Yes</td>\n",
              "      <td>Yes</td>\n",
              "      <td>Yes</td>\n",
              "      <td>Yes</td>\n",
              "      <td>No</td>\n",
              "      <td>No</td>\n",
              "      <td>NaN</td>\n",
              "    </tr>\n",
              "    <tr>\n",
              "      <th>3</th>\n",
              "      <td>2014-08-27 11:29:46</td>\n",
              "      <td>31</td>\n",
              "      <td>Male</td>\n",
              "      <td>United Kingdom</td>\n",
              "      <td>NaN</td>\n",
              "      <td>NaN</td>\n",
              "      <td>Yes</td>\n",
              "      <td>Yes</td>\n",
              "      <td>Often</td>\n",
              "      <td>26-100</td>\n",
              "      <td>...</td>\n",
              "      <td>Somewhat difficult</td>\n",
              "      <td>Yes</td>\n",
              "      <td>Yes</td>\n",
              "      <td>Some of them</td>\n",
              "      <td>No</td>\n",
              "      <td>Maybe</td>\n",
              "      <td>Maybe</td>\n",
              "      <td>No</td>\n",
              "      <td>Yes</td>\n",
              "      <td>NaN</td>\n",
              "    </tr>\n",
              "    <tr>\n",
              "      <th>4</th>\n",
              "      <td>2014-08-27 11:30:22</td>\n",
              "      <td>31</td>\n",
              "      <td>Male</td>\n",
              "      <td>United States</td>\n",
              "      <td>TX</td>\n",
              "      <td>NaN</td>\n",
              "      <td>No</td>\n",
              "      <td>No</td>\n",
              "      <td>Never</td>\n",
              "      <td>100-500</td>\n",
              "      <td>...</td>\n",
              "      <td>Don't know</td>\n",
              "      <td>No</td>\n",
              "      <td>No</td>\n",
              "      <td>Some of them</td>\n",
              "      <td>Yes</td>\n",
              "      <td>Yes</td>\n",
              "      <td>Yes</td>\n",
              "      <td>Don't know</td>\n",
              "      <td>No</td>\n",
              "      <td>NaN</td>\n",
              "    </tr>\n",
              "  </tbody>\n",
              "</table>\n",
              "<p>5 rows × 27 columns</p>\n",
              "</div>\n",
              "      <button class=\"colab-df-convert\" onclick=\"convertToInteractive('df-5448dc13-0b25-42bf-85c5-0fa4f89bcc03')\"\n",
              "              title=\"Convert this dataframe to an interactive table.\"\n",
              "              style=\"display:none;\">\n",
              "        \n",
              "  <svg xmlns=\"http://www.w3.org/2000/svg\" height=\"24px\"viewBox=\"0 0 24 24\"\n",
              "       width=\"24px\">\n",
              "    <path d=\"M0 0h24v24H0V0z\" fill=\"none\"/>\n",
              "    <path d=\"M18.56 5.44l.94 2.06.94-2.06 2.06-.94-2.06-.94-.94-2.06-.94 2.06-2.06.94zm-11 1L8.5 8.5l.94-2.06 2.06-.94-2.06-.94L8.5 2.5l-.94 2.06-2.06.94zm10 10l.94 2.06.94-2.06 2.06-.94-2.06-.94-.94-2.06-.94 2.06-2.06.94z\"/><path d=\"M17.41 7.96l-1.37-1.37c-.4-.4-.92-.59-1.43-.59-.52 0-1.04.2-1.43.59L10.3 9.45l-7.72 7.72c-.78.78-.78 2.05 0 2.83L4 21.41c.39.39.9.59 1.41.59.51 0 1.02-.2 1.41-.59l7.78-7.78 2.81-2.81c.8-.78.8-2.07 0-2.86zM5.41 20L4 18.59l7.72-7.72 1.47 1.35L5.41 20z\"/>\n",
              "  </svg>\n",
              "      </button>\n",
              "      \n",
              "  <style>\n",
              "    .colab-df-container {\n",
              "      display:flex;\n",
              "      flex-wrap:wrap;\n",
              "      gap: 12px;\n",
              "    }\n",
              "\n",
              "    .colab-df-convert {\n",
              "      background-color: #E8F0FE;\n",
              "      border: none;\n",
              "      border-radius: 50%;\n",
              "      cursor: pointer;\n",
              "      display: none;\n",
              "      fill: #1967D2;\n",
              "      height: 32px;\n",
              "      padding: 0 0 0 0;\n",
              "      width: 32px;\n",
              "    }\n",
              "\n",
              "    .colab-df-convert:hover {\n",
              "      background-color: #E2EBFA;\n",
              "      box-shadow: 0px 1px 2px rgba(60, 64, 67, 0.3), 0px 1px 3px 1px rgba(60, 64, 67, 0.15);\n",
              "      fill: #174EA6;\n",
              "    }\n",
              "\n",
              "    [theme=dark] .colab-df-convert {\n",
              "      background-color: #3B4455;\n",
              "      fill: #D2E3FC;\n",
              "    }\n",
              "\n",
              "    [theme=dark] .colab-df-convert:hover {\n",
              "      background-color: #434B5C;\n",
              "      box-shadow: 0px 1px 3px 1px rgba(0, 0, 0, 0.15);\n",
              "      filter: drop-shadow(0px 1px 2px rgba(0, 0, 0, 0.3));\n",
              "      fill: #FFFFFF;\n",
              "    }\n",
              "  </style>\n",
              "\n",
              "      <script>\n",
              "        const buttonEl =\n",
              "          document.querySelector('#df-5448dc13-0b25-42bf-85c5-0fa4f89bcc03 button.colab-df-convert');\n",
              "        buttonEl.style.display =\n",
              "          google.colab.kernel.accessAllowed ? 'block' : 'none';\n",
              "\n",
              "        async function convertToInteractive(key) {\n",
              "          const element = document.querySelector('#df-5448dc13-0b25-42bf-85c5-0fa4f89bcc03');\n",
              "          const dataTable =\n",
              "            await google.colab.kernel.invokeFunction('convertToInteractive',\n",
              "                                                     [key], {});\n",
              "          if (!dataTable) return;\n",
              "\n",
              "          const docLinkHtml = 'Like what you see? Visit the ' +\n",
              "            '<a target=\"_blank\" href=https://colab.research.google.com/notebooks/data_table.ipynb>data table notebook</a>'\n",
              "            + ' to learn more about interactive tables.';\n",
              "          element.innerHTML = '';\n",
              "          dataTable['output_type'] = 'display_data';\n",
              "          await google.colab.output.renderOutput(dataTable, element);\n",
              "          const docLink = document.createElement('div');\n",
              "          docLink.innerHTML = docLinkHtml;\n",
              "          element.appendChild(docLink);\n",
              "        }\n",
              "      </script>\n",
              "    </div>\n",
              "  </div>\n",
              "  "
            ]
          },
          "metadata": {},
          "execution_count": 2
        }
      ],
      "source": [
        "df = pd.read_csv(\"survey1.csv\")\n",
        "df.head()"
      ]
    },
    {
      "cell_type": "markdown",
      "metadata": {
        "id": "tigRONMbBcTo"
      },
      "source": [
        "## Data Cleansing"
      ]
    },
    {
      "cell_type": "markdown",
      "source": [
        "### Replacing Gender\n",
        "\n",
        "Since the data came from a survey there are some values that are not correctly written, therefore a data cleanse was done to only have 3 categories."
      ],
      "metadata": {
        "id": "6jrwsOxnqDVn"
      }
    },
    {
      "cell_type": "code",
      "execution_count": null,
      "metadata": {
        "colab": {
          "base_uri": "https://localhost:8080/"
        },
        "id": "ZYBQ-m0syAf8",
        "outputId": "aed1a662-aba8-4751-cd13-6506f208b6f4"
      },
      "outputs": [
        {
          "output_type": "stream",
          "name": "stdout",
          "text": [
            "['Female' 'M' 'Male' 'male' 'female' 'm' 'Male-ish' 'maile' 'Trans-female'\n",
            " 'Cis Female' 'F' 'something kinda male?' 'Cis Male' 'Woman' 'f' 'Mal'\n",
            " 'Male (CIS)' 'queer/she/they' 'non-binary' 'Femake' 'woman' 'Make' 'Nah'\n",
            " 'All' 'Enby' 'fluid' 'Genderqueer' 'Female ' 'Androgyne' 'Agender'\n",
            " 'cis-female/femme' 'Guy (-ish) ^_^' 'male leaning androgynous' 'Male '\n",
            " 'Man' 'Trans woman' 'msle' 'Neuter' 'Female (trans)' 'queer'\n",
            " 'Female (cis)' 'Mail' 'cis male' 'A little about you' 'Malr' 'p' 'femail'\n",
            " 'Cis Man' 'ostensibly male, unsure what that really means']\n",
            "['Woman' 'Man' 'Others']\n"
          ]
        }
      ],
      "source": [
        "# Replacing Gender\n",
        "print(df.Gender.unique())\n",
        "df = df.replace(to_replace = [\"Male\",\"Male \", \"Malr\",\"Mail\", \"Make\",\"Mal\",\"msle\",\"M\",\"m\",\"male\",\"maile\",\"Male (CIS)\", \"Cis Male\", \"cis male\", \"Cis Man\",\"Cis Male\",\"something kinda male?\",\"ostensibly male, unsure what that really means\"], value = \"Man\")\n",
        "df = df.replace(to_replace = [\"woman\",\"Female\",\"Female \", \"f\",\"F\",\"femail\",\"Femake\",\"female\",\"cis-female/femme\", \"Female (cis)\",\"Cis Female\"], value = \"Woman\")\n",
        "df = df.replace(to_replace = [\"Trans woman\",\"Female (trans)\",\"Trans-female\",\"Woman_Trans\",\"non-binary\",\"queer/she/they\",\"Genderqueer\",\"queer\",\"fluid\",\"Enby\",\"Male-ish\", \"Guy (-ish) ^_^\",\"A little about you\",\"Agender\",\"Non-binary\",\"p\",\"Neuter\",\"Nah\",\"male leaning androgynous\",\"Androgyne\",\"All\"], value = \"Others\")\n",
        "print(df.Gender.unique())"
      ]
    },
    {
      "cell_type": "code",
      "execution_count": null,
      "metadata": {
        "colab": {
          "base_uri": "https://localhost:8080/",
          "height": 279
        },
        "id": "Xw9ZwiIez5t9",
        "outputId": "21bacbb6-b131-4b12-8957-ca8a5024e7dd"
      },
      "outputs": [
        {
          "output_type": "display_data",
          "data": {
            "text/plain": [
              "<Figure size 432x288 with 1 Axes>"
            ],
            "image/png": "[encoded data removed]"
          },
          "metadata": {
            "needs_background": "light"
          }
        }
      ],
      "source": [
        "# Gender countplot\n",
        "ax = sns.countplot(x = \"Gender\", data = df)\n",
        "for p in ax.patches:\n",
        "   ax.annotate('{:}'.format(p.get_height()), (p.get_x()+0.30, p.get_height()+1.5))"
      ]
    },
    {
      "cell_type": "markdown",
      "source": [
        "### Min and Max ages\n",
        "\n",
        "The minimum age captured in the survey is -1726 and the maximum 99999999999, which do not make sense, we made a boxplot to identify how many outliers we have in the data and then we proceeded to replace those observations with an age no more than 72 and no less than 18."
      ],
      "metadata": {
        "id": "UZWn9NJBvOKA"
      }
    },
    {
      "cell_type": "code",
      "execution_count": null,
      "metadata": {
        "colab": {
          "base_uri": "https://localhost:8080/"
        },
        "id": "MXIfmXpXxDdS",
        "outputId": "3ee04e17-5e63-4ae0-f99c-0b63e11aed52"
      },
      "outputs": [
        {
          "output_type": "stream",
          "name": "stdout",
          "text": [
            "-1726\n",
            "99999999999\n"
          ]
        }
      ],
      "source": [
        "# Min and Max ages\n",
        "print(min(df.Age))\n",
        "print(max(df.Age))"
      ]
    },
    {
      "cell_type": "code",
      "source": [
        "# Boxplot with outliers\n",
        "sns.boxplot(y = df[(df.Age <= 120) & (df.Age >= 0)].Age, x = df.treatment)"
      ],
      "metadata": {
        "colab": {
          "base_uri": "https://localhost:8080/",
          "height": 296
        },
        "id": "S7clWjktvtmJ",
        "outputId": "67cd552e-e0cd-43fb-ad70-76765c0f0510"
      },
      "execution_count": null,
      "outputs": [
        {
          "output_type": "execute_result",
          "data": {
            "text/plain": [
              "<matplotlib.axes._subplots.AxesSubplot at 0x7fca10c8d150>"
            ]
          },
          "metadata": {},
          "execution_count": 6
        },
        {
          "output_type": "display_data",
          "data": {
            "text/plain": [
              "<Figure size 432x288 with 1 Axes>"
            ],
            "image/png": "[encoded data removed]"
          },
          "metadata": {
            "needs_background": "light"
          }
        }
      ]
    },
    {
      "cell_type": "code",
      "execution_count": null,
      "metadata": {
        "colab": {
          "base_uri": "https://localhost:8080/"
        },
        "id": "VFGbOcb3BSqN",
        "outputId": "57da58ac-89d3-4b63-cbc1-7923105e164c"
      },
      "outputs": [
        {
          "output_type": "execute_result",
          "data": {
            "text/plain": [
              "count    1259.000000\n",
              "mean       32.073074\n",
              "std         7.500677\n",
              "min        18.000000\n",
              "25%        27.000000\n",
              "50%        31.000000\n",
              "75%        36.000000\n",
              "max        72.000000\n",
              "Name: Age, dtype: float64"
            ]
          },
          "metadata": {},
          "execution_count": 7
        }
      ],
      "source": [
        "# Age cleaning\n",
        "df.Age = np.where(df.Age <= 18, 18, df.Age)\n",
        "df.Age = np.where(df.Age >= 72, 72, df.Age)\n",
        "df.Age.describe()"
      ]
    },
    {
      "cell_type": "code",
      "source": [
        "sns.boxplot(y = df.Age, x = df.treatment)"
      ],
      "metadata": {
        "colab": {
          "base_uri": "https://localhost:8080/",
          "height": 296
        },
        "id": "j-C0EYuXK6_T",
        "outputId": "3076b46e-6f92-4611-aae6-8d7b86b613d8"
      },
      "execution_count": null,
      "outputs": [
        {
          "output_type": "execute_result",
          "data": {
            "text/plain": [
              "<matplotlib.axes._subplots.AxesSubplot at 0x7fca10772e50>"
            ]
          },
          "metadata": {},
          "execution_count": 8
        },
        {
          "output_type": "display_data",
          "data": {
            "text/plain": [
              "<Figure size 432x288 with 1 Axes>"
            ],
            "image/png": "[encoded data removed]"
          },
          "metadata": {
            "needs_background": "light"
          }
        }
      ]
    },
    {
      "cell_type": "markdown",
      "source": [
        "### Employees NA\n",
        "\n",
        "We made a plot where we can see that the variable `self_employed` has 18 missing values. To replace those values we reviewed the variable `tech_company`, if the person works in a tech company is labeled as **\"No\"** and if the person does not work in a tech company is labeled as **\"Yes\"**."
      ],
      "metadata": {
        "id": "31kbrfBCwuQq"
      }
    },
    {
      "cell_type": "code",
      "source": [
        "ms.bar(df)"
      ],
      "metadata": {
        "colab": {
          "base_uri": "https://localhost:8080/",
          "height": 815
        },
        "id": "MCLQDznQyO5i",
        "outputId": "12864c58-bdc6-43b2-f568-e5ec8eacc69e"
      },
      "execution_count": null,
      "outputs": [
        {
          "output_type": "execute_result",
          "data": {
            "text/plain": [
              "<matplotlib.axes._subplots.AxesSubplot at 0x7fca106d6550>"
            ]
          },
          "metadata": {},
          "execution_count": 9
        },
        {
          "output_type": "display_data",
          "data": {
            "text/plain": [
              "<Figure size 1800x720 with 3 Axes>"
            ],
            "image/png": "[encoded data removed]"
          },
          "metadata": {
            "needs_background": "light"
          }
        }
      ]
    },
    {
      "cell_type": "code",
      "execution_count": null,
      "metadata": {
        "colab": {
          "base_uri": "https://localhost:8080/",
          "height": 206
        },
        "id": "TPuGVYtcCuzM",
        "outputId": "5a79afd3-2723-45f9-e35f-5c117f9a2d38"
      },
      "outputs": [
        {
          "output_type": "execute_result",
          "data": {
            "text/plain": [
              "  self_employed tech_company\n",
              "0           NaN          Yes\n",
              "1           NaN           No\n",
              "2           NaN          Yes\n",
              "3           NaN          Yes\n",
              "4           NaN          Yes"
            ],
            "text/html": [
              "\n",
              "  <div id=\"df-c0184abe-a183-40e9-9a5d-f0bf3d5cb025\">\n",
              "    <div class=\"colab-df-container\">\n",
              "      <div>\n",
              "<style scoped>\n",
              "    .dataframe tbody tr th:only-of-type {\n",
              "        vertical-align: middle;\n",
              "    }\n",
              "\n",
              "    .dataframe tbody tr th {\n",
              "        vertical-align: top;\n",
              "    }\n",
              "\n",
              "    .dataframe thead th {\n",
              "        text-align: right;\n",
              "    }\n",
              "</style>\n",
              "<table border=\"1\" class=\"dataframe\">\n",
              "  <thead>\n",
              "    <tr style=\"text-align: right;\">\n",
              "      <th></th>\n",
              "      <th>self_employed</th>\n",
              "      <th>tech_company</th>\n",
              "    </tr>\n",
              "  </thead>\n",
              "  <tbody>\n",
              "    <tr>\n",
              "      <th>0</th>\n",
              "      <td>NaN</td>\n",
              "      <td>Yes</td>\n",
              "    </tr>\n",
              "    <tr>\n",
              "      <th>1</th>\n",
              "      <td>NaN</td>\n",
              "      <td>No</td>\n",
              "    </tr>\n",
              "    <tr>\n",
              "      <th>2</th>\n",
              "      <td>NaN</td>\n",
              "      <td>Yes</td>\n",
              "    </tr>\n",
              "    <tr>\n",
              "      <th>3</th>\n",
              "      <td>NaN</td>\n",
              "      <td>Yes</td>\n",
              "    </tr>\n",
              "    <tr>\n",
              "      <th>4</th>\n",
              "      <td>NaN</td>\n",
              "      <td>Yes</td>\n",
              "    </tr>\n",
              "  </tbody>\n",
              "</table>\n",
              "</div>\n",
              "      <button class=\"colab-df-convert\" onclick=\"convertToInteractive('df-c0184abe-a183-40e9-9a5d-f0bf3d5cb025')\"\n",
              "              title=\"Convert this dataframe to an interactive table.\"\n",
              "              style=\"display:none;\">\n",
              "        \n",
              "  <svg xmlns=\"http://www.w3.org/2000/svg\" height=\"24px\"viewBox=\"0 0 24 24\"\n",
              "       width=\"24px\">\n",
              "    <path d=\"M0 0h24v24H0V0z\" fill=\"none\"/>\n",
              "    <path d=\"M18.56 5.44l.94 2.06.94-2.06 2.06-.94-2.06-.94-.94-2.06-.94 2.06-2.06.94zm-11 1L8.5 8.5l.94-2.06 2.06-.94-2.06-.94L8.5 2.5l-.94 2.06-2.06.94zm10 10l.94 2.06.94-2.06 2.06-.94-2.06-.94-.94-2.06-.94 2.06-2.06.94z\"/><path d=\"M17.41 7.96l-1.37-1.37c-.4-.4-.92-.59-1.43-.59-.52 0-1.04.2-1.43.59L10.3 9.45l-7.72 7.72c-.78.78-.78 2.05 0 2.83L4 21.41c.39.39.9.59 1.41.59.51 0 1.02-.2 1.41-.59l7.78-7.78 2.81-2.81c.8-.78.8-2.07 0-2.86zM5.41 20L4 18.59l7.72-7.72 1.47 1.35L5.41 20z\"/>\n",
              "  </svg>\n",
              "      </button>\n",
              "      \n",
              "  <style>\n",
              "    .colab-df-container {\n",
              "      display:flex;\n",
              "      flex-wrap:wrap;\n",
              "      gap: 12px;\n",
              "    }\n",
              "\n",
              "    .colab-df-convert {\n",
              "      background-color: #E8F0FE;\n",
              "      border: none;\n",
              "      border-radius: 50%;\n",
              "      cursor: pointer;\n",
              "      display: none;\n",
              "      fill: #1967D2;\n",
              "      height: 32px;\n",
              "      padding: 0 0 0 0;\n",
              "      width: 32px;\n",
              "    }\n",
              "\n",
              "    .colab-df-convert:hover {\n",
              "      background-color: #E2EBFA;\n",
              "      box-shadow: 0px 1px 2px rgba(60, 64, 67, 0.3), 0px 1px 3px 1px rgba(60, 64, 67, 0.15);\n",
              "      fill: #174EA6;\n",
              "    }\n",
              "\n",
              "    [theme=dark] .colab-df-convert {\n",
              "      background-color: #3B4455;\n",
              "      fill: #D2E3FC;\n",
              "    }\n",
              "\n",
              "    [theme=dark] .colab-df-convert:hover {\n",
              "      background-color: #434B5C;\n",
              "      box-shadow: 0px 1px 3px 1px rgba(0, 0, 0, 0.15);\n",
              "      filter: drop-shadow(0px 1px 2px rgba(0, 0, 0, 0.3));\n",
              "      fill: #FFFFFF;\n",
              "    }\n",
              "  </style>\n",
              "\n",
              "      <script>\n",
              "        const buttonEl =\n",
              "          document.querySelector('#df-c0184abe-a183-40e9-9a5d-f0bf3d5cb025 button.colab-df-convert');\n",
              "        buttonEl.style.display =\n",
              "          google.colab.kernel.accessAllowed ? 'block' : 'none';\n",
              "\n",
              "        async function convertToInteractive(key) {\n",
              "          const element = document.querySelector('#df-c0184abe-a183-40e9-9a5d-f0bf3d5cb025');\n",
              "          const dataTable =\n",
              "            await google.colab.kernel.invokeFunction('convertToInteractive',\n",
              "                                                     [key], {});\n",
              "          if (!dataTable) return;\n",
              "\n",
              "          const docLinkHtml = 'Like what you see? Visit the ' +\n",
              "            '<a target=\"_blank\" href=https://colab.research.google.com/notebooks/data_table.ipynb>data table notebook</a>'\n",
              "            + ' to learn more about interactive tables.';\n",
              "          element.innerHTML = '';\n",
              "          dataTable['output_type'] = 'display_data';\n",
              "          await google.colab.output.renderOutput(dataTable, element);\n",
              "          const docLink = document.createElement('div');\n",
              "          docLink.innerHTML = docLinkHtml;\n",
              "          element.appendChild(docLink);\n",
              "        }\n",
              "      </script>\n",
              "    </div>\n",
              "  </div>\n",
              "  "
            ]
          },
          "metadata": {},
          "execution_count": 10
        }
      ],
      "source": [
        " # Employees NA\n",
        "df[df.self_employed.isna()][[\"self_employed\",\"tech_company\"]].head()"
      ]
    },
    {
      "cell_type": "code",
      "execution_count": null,
      "metadata": {
        "colab": {
          "base_uri": "https://localhost:8080/"
        },
        "id": "vBHBPkpHFb6W",
        "outputId": "c5bdca16-aa43-4ed3-d2fd-1d2ccdfdc85d"
      },
      "outputs": [
        {
          "output_type": "execute_result",
          "data": {
            "text/plain": [
              "array(['No', 'Yes'], dtype=object)"
            ]
          },
          "metadata": {},
          "execution_count": 11
        }
      ],
      "source": [
        "df.self_employed = np.where((df.self_employed.isna()) & (df.tech_company == \"No\"), \"Yes\", df.self_employed)\n",
        "df.self_employed = np.where((df.self_employed.isna()) & (df.tech_company == \"Yes\"), \"No\", df.self_employed)\n",
        "df.self_employed.describe()\n",
        "df.self_employed.unique()"
      ]
    },
    {
      "cell_type": "markdown",
      "source": [
        "## Data Exploration"
      ],
      "metadata": {
        "id": "X2raAu5Z2z1_"
      }
    },
    {
      "cell_type": "markdown",
      "source": [
        "### Target Variable `treatment`\n",
        "\n",
        "As we can see on the following chart, the outcome variable is well balanced (637 Yes, 622 No).\n"
      ],
      "metadata": {
        "id": "5tGA2E6WrIUA"
      }
    },
    {
      "cell_type": "code",
      "source": [
        "# Target Variable {treatment}\n",
        "ax = sns.countplot(x = df.treatment, data = df)\n",
        "for p in ax.patches:\n",
        "   ax.annotate('{:}'.format(p.get_height()), (p.get_x()+0.35, p.get_height()+1.5))"
      ],
      "metadata": {
        "colab": {
          "base_uri": "https://localhost:8080/",
          "height": 279
        },
        "id": "0loHqZberIAh",
        "outputId": "7d7b0337-5d75-4a8c-a77e-4e5ee35c03fd"
      },
      "execution_count": null,
      "outputs": [
        {
          "output_type": "display_data",
          "data": {
            "text/plain": [
              "<Figure size 432x288 with 1 Axes>"
            ],
            "image/png": "[encoded data removed]"
          },
          "metadata": {
            "needs_background": "light"
          }
        }
      ]
    },
    {
      "cell_type": "markdown",
      "source": [
        "\n",
        "The following analysis per variable is a first approach to determine if a variable has a possible correlation between the categorical variables and the target. "
      ],
      "metadata": {
        "id": "vmAO1OR_yU5D"
      }
    },
    {
      "cell_type": "markdown",
      "source": [
        "### Target Variable vs `Age`\n",
        "\n",
        "The age of the people who received treatment is slightly higher than those who didn't.\n"
      ],
      "metadata": {
        "id": "0OGci3_bGvDD"
      }
    },
    {
      "cell_type": "code",
      "source": [
        "sns.boxplot(y = df.Age, x = df.treatment)"
      ],
      "metadata": {
        "colab": {
          "base_uri": "https://localhost:8080/",
          "height": 296
        },
        "id": "5X0IsT4ZGoeQ",
        "outputId": "d1f6970f-94bd-4d37-e51d-52c4b84fb5e1"
      },
      "execution_count": null,
      "outputs": [
        {
          "output_type": "execute_result",
          "data": {
            "text/plain": [
              "<matplotlib.axes._subplots.AxesSubplot at 0x7fca0dc3c650>"
            ]
          },
          "metadata": {},
          "execution_count": 13
        },
        {
          "output_type": "display_data",
          "data": {
            "text/plain": [
              "<Figure size 432x288 with 1 Axes>"
            ],
            "image/png": "[encoded data removed]"
          },
          "metadata": {
            "needs_background": "light"
          }
        }
      ]
    },
    {
      "cell_type": "markdown",
      "source": [
        "### Target Variable vs `Gender`\n",
        "\n",
        "The % of people to receive treatment by `gender` are:\n",
        "- Women: 68%\n",
        "- Man: 45%\n",
        "- Others:85%\n",
        "\n",
        "Being a women could rise the probability to receive treatment.\n",
        "\n"
      ],
      "metadata": {
        "id": "HKNldPTi5CDl"
      }
    },
    {
      "cell_type": "code",
      "source": [
        "#Gender Count with treatment\n",
        "ax = sns.countplot(x = df.Gender, data = df, hue = df.treatment)\n",
        "for p in ax.patches:\n",
        "   ax.annotate('{:}'.format(p.get_height()), (p.get_x()+0.15, p.get_height()+1.5))"
      ],
      "metadata": {
        "colab": {
          "base_uri": "https://localhost:8080/",
          "height": 279
        },
        "id": "zGJwF30OuLB5",
        "outputId": "54f2c808-5345-4203-906a-488ce08570dd"
      },
      "execution_count": null,
      "outputs": [
        {
          "output_type": "display_data",
          "data": {
            "text/plain": [
              "<Figure size 432x288 with 1 Axes>"
            ],
            "image/png": "[encoded data removed]"
          },
          "metadata": {
            "needs_background": "light"
          }
        }
      ]
    },
    {
      "cell_type": "markdown",
      "source": [
        "### Target Variable vs `Self_employed`\n",
        "\n",
        "The % of people who receive treatment by `Self_employed` are:\n",
        "\n",
        "\n",
        "*   Yes: 57%\n",
        "*   No: 51%\n",
        "\n",
        "Being self employed by first impression does not show a notable difference in  the probability to receive treatment.\n"
      ],
      "metadata": {
        "id": "fqKmqzhY5sw7"
      }
    },
    {
      "cell_type": "code",
      "source": [
        "# Self employed Count with treatment\n",
        "ax = sns.countplot(x = df.self_employed, data = df, hue = df.treatment)\n",
        "for p in ax.patches:\n",
        "   ax.annotate('{:}'.format(p.get_height()), (p.get_x()+0.15, p.get_height()+1.5))\n"
      ],
      "metadata": {
        "colab": {
          "base_uri": "https://localhost:8080/",
          "height": 280
        },
        "id": "5P5zjfuwyYLU",
        "outputId": "0a9afbc2-2717-42ef-a404-080b98d44c5b"
      },
      "execution_count": null,
      "outputs": [
        {
          "output_type": "display_data",
          "data": {
            "text/plain": [
              "<Figure size 432x288 with 1 Axes>"
            ],
            "image/png": "[encoded data removed]"
          },
          "metadata": {
            "needs_background": "light"
          }
        }
      ]
    },
    {
      "cell_type": "markdown",
      "source": [
        "### Target Variable vs `Family_history`\n",
        "\n",
        "The % of people to receive treatment by `Family_history` are:\n",
        "\n",
        "- Yes: 74%\n",
        "- No: 37%\n",
        "\n",
        "By having a family history of mental illness the probability of needing treatment could rise."
      ],
      "metadata": {
        "id": "KWeADF-i0SUS"
      }
    },
    {
      "cell_type": "code",
      "source": [
        "# Family history Count with treatment\n",
        "ax = sns.countplot(x = df.family_history, data = df, hue = df.treatment)\n",
        "for p in ax.patches:\n",
        "   ax.annotate('{:}'.format(p.get_height()), (p.get_x()+0.15, p.get_height()+1.5))"
      ],
      "metadata": {
        "colab": {
          "base_uri": "https://localhost:8080/",
          "height": 280
        },
        "id": "2GeP9BXgze32",
        "outputId": "cc67c93f-bc23-4cd7-a9ea-250a236b8e84"
      },
      "execution_count": null,
      "outputs": [
        {
          "output_type": "display_data",
          "data": {
            "text/plain": [
              "<Figure size 432x288 with 1 Axes>"
            ],
            "image/png": "[encoded data removed]"
          },
          "metadata": {
            "needs_background": "light"
          }
        }
      ]
    },
    {
      "cell_type": "markdown",
      "source": [
        "### Target Variable vs `work_interfere`\n",
        "\n",
        "The % of people to receive treatment and `work_interfere` are:\n",
        "\n",
        "- Often: 87%\n",
        "- Sometimes: 77%\n",
        "- Rarely:71%\n",
        "- Never:14%\n",
        "\n",
        "\n",
        "There is a significant difference between the categories `never` and `often`, which could indicate that this is a variable with a strong influence on the outcome. "
      ],
      "metadata": {
        "id": "AEP9tlbT3_Uy"
      }
    },
    {
      "cell_type": "code",
      "source": [
        "ax = sns.countplot(x = df.work_interfere, data = df, hue = df.treatment)\n",
        "for p in ax.patches:\n",
        "   ax.annotate('{:}'.format(p.get_height()), (p.get_x()+0.15, p.get_height()+1.5))"
      ],
      "metadata": {
        "colab": {
          "base_uri": "https://localhost:8080/",
          "height": 280
        },
        "id": "zrC4Z-hM33V5",
        "outputId": "61531d43-a9dd-4b9c-979d-e5912f2917d6"
      },
      "execution_count": null,
      "outputs": [
        {
          "output_type": "display_data",
          "data": {
            "text/plain": [
              "<Figure size 432x288 with 1 Axes>"
            ],
            "image/png": "[encoded data removed]"
          },
          "metadata": {
            "needs_background": "light"
          }
        }
      ]
    },
    {
      "cell_type": "markdown",
      "source": [
        "### Target Variable vs `no_employees`\n",
        "\n",
        "The % of people to receive treatment by `no_employees` are:\n",
        "\n",
        "*   1 to 5: 60%\n",
        "*   6 to 25: 48%\n",
        "*   26 to 100:54%\n",
        "*   100 to 500:57%\n",
        "*   500 to 1000:43%\n",
        "*   $>$ 1000:50%\n",
        "\n",
        "Considering the maximum is 60% and the minimum is 43%, this gap could indicate a correlation between the number of employees in the company and the probability of receiving treatment."
      ],
      "metadata": {
        "id": "XHDl7d8h9M1C"
      }
    },
    {
      "cell_type": "code",
      "source": [
        "ax = sns.countplot(x = df.no_employees, data = df, hue = df.treatment)\n",
        "for p in ax.patches:\n",
        "   ax.annotate('{:}'.format(p.get_height()), (p.get_x()+0.15, p.get_height()+1.5))"
      ],
      "metadata": {
        "colab": {
          "base_uri": "https://localhost:8080/",
          "height": 280
        },
        "id": "rB9DUKE765Z1",
        "outputId": "9521d686-a2dd-44c7-bd25-6002d23d027e"
      },
      "execution_count": null,
      "outputs": [
        {
          "output_type": "display_data",
          "data": {
            "text/plain": [
              "<Figure size 432x288 with 1 Axes>"
            ],
            "image/png": "[encoded data removed]"
          },
          "metadata": {
            "needs_background": "light"
          }
        }
      ]
    },
    {
      "cell_type": "markdown",
      "source": [
        "### Target Variable vs `remote_work`\n",
        "\n",
        "The % of people to receive treatment by `remote_work` are:\n",
        "\n",
        "*   Yes: 54%\n",
        "*   No: 52%\n",
        "\n",
        "There is a small variation between the two categories, this variable could be irrelevant by itself to the outcome variable."
      ],
      "metadata": {
        "id": "HsTOzdwE_CFs"
      }
    },
    {
      "cell_type": "code",
      "source": [
        "ax = sns.countplot(x = df.remote_work, data = df, hue = df.treatment)\n",
        "for p in ax.patches:\n",
        "   ax.annotate('{:}'.format(p.get_height()), (p.get_x()+0.15, p.get_height()+1.5))\n",
        "\n",
        "\n"
      ],
      "metadata": {
        "colab": {
          "base_uri": "https://localhost:8080/",
          "height": 280
        },
        "id": "8g57Vm3m-0lj",
        "outputId": "2826ca22-ad5d-405f-a0f3-4be3a1a85413"
      },
      "execution_count": null,
      "outputs": [
        {
          "output_type": "display_data",
          "data": {
            "text/plain": [
              "<Figure size 432x288 with 1 Axes>"
            ],
            "image/png": "[encoded data removed]"
          },
          "metadata": {
            "needs_background": "light"
          }
        }
      ]
    },
    {
      "cell_type": "markdown",
      "source": [
        "### Target Variable vs `Tech_company`\n",
        "\n",
        "The % of people to receive treatment by `Tech_company` are:\n",
        "\n",
        "*   Yes: 52%\n",
        "*   No: 54%\n",
        "\n",
        "As the previous variable, there is also a small variation between the two categories, this variable could be irrelevant by itself to the outcome variable."
      ],
      "metadata": {
        "id": "wm5KImpKA2yZ"
      }
    },
    {
      "cell_type": "code",
      "source": [
        "ax = sns.countplot(x = df.tech_company, data = df, hue = df.treatment)\n",
        "for p in ax.patches:\n",
        "   ax.annotate('{:}'.format(p.get_height()), (p.get_x()+0.15, p.get_height()+1.5))"
      ],
      "metadata": {
        "colab": {
          "base_uri": "https://localhost:8080/",
          "height": 280
        },
        "id": "80D0I5Y0AzJ-",
        "outputId": "9d909ba3-8b3d-4dea-d6f2-bbb9db8c5456"
      },
      "execution_count": null,
      "outputs": [
        {
          "output_type": "display_data",
          "data": {
            "text/plain": [
              "<Figure size 432x288 with 1 Axes>"
            ],
            "image/png": "[encoded data removed]"
          },
          "metadata": {
            "needs_background": "light"
          }
        }
      ]
    },
    {
      "cell_type": "markdown",
      "source": [
        "### Target Variable vs `benefits`\n",
        "\n",
        "The % of people to receive treatment by `benefits`:\n",
        "\n",
        "*   Yes: 64%\n",
        "*   No: 53%\n",
        "*   Don't know: 39%\n",
        "\n",
        "There is a significant variation between the 39% minimum and the 64% maximum, which could indicate a correlation between this variable and the outcome. "
      ],
      "metadata": {
        "id": "Ttl8qPiPBmJO"
      }
    },
    {
      "cell_type": "code",
      "source": [
        "ax = sns.countplot(x = df.benefits, data = df, hue = df.treatment)\n",
        "for p in ax.patches:\n",
        "   ax.annotate('{:}'.format(p.get_height()), (p.get_x()+0.15, p.get_height()+1.5))"
      ],
      "metadata": {
        "colab": {
          "base_uri": "https://localhost:8080/",
          "height": 279
        },
        "id": "RZGrKGR2BkFc",
        "outputId": "2b90b3ad-9eed-4629-a64f-144aa48a198a"
      },
      "execution_count": null,
      "outputs": [
        {
          "output_type": "display_data",
          "data": {
            "text/plain": [
              "<Figure size 432x288 with 1 Axes>"
            ],
            "image/png": "[encoded data removed]"
          },
          "metadata": {
            "needs_background": "light"
          }
        }
      ]
    },
    {
      "cell_type": "markdown",
      "source": [
        "### Target Variable vs `care_options`\n",
        "\n",
        "The % of people to receive treatment by `care_options` are:\n",
        "\n",
        "*   Yes: 70%\n",
        "*   No: 45%\n",
        "*   Not Sure: 39%\n",
        "\n",
        "The people who answered yes to this question in 70% of the cases have received psychological treatment."
      ],
      "metadata": {
        "id": "n3TVoeYEUHGT"
      }
    },
    {
      "cell_type": "code",
      "source": [
        "ax = sns.countplot(x = df.care_options, data = df, hue = df.treatment)\n",
        "for p in ax.patches:\n",
        "   ax.annotate('{:}'.format(p.get_height()), (p.get_x()+0.15, p.get_height()+1.5))"
      ],
      "metadata": {
        "colab": {
          "base_uri": "https://localhost:8080/",
          "height": 280
        },
        "id": "0bzylgwAUGyA",
        "outputId": "187a50c7-24c8-48f4-8fb5-a2ec459f7f65"
      },
      "execution_count": null,
      "outputs": [
        {
          "output_type": "display_data",
          "data": {
            "text/plain": [
              "<Figure size 432x288 with 1 Axes>"
            ],
            "image/png": "[encoded data removed]"
          },
          "metadata": {
            "needs_background": "light"
          }
        }
      ]
    },
    {
      "cell_type": "markdown",
      "source": [
        "### Target Variable vs `wellness_program`\n",
        "\n",
        "The % of people to receive treatment by `wellness_program`:\n",
        "\n",
        "*   Yes: 59%\n",
        "*   No: 52%\n",
        "*   Don't know: 45%\n",
        "\n",
        "The results for this variable are very close, which could indicate that there is no correlation between this variable and the outcome."
      ],
      "metadata": {
        "id": "SLx3dt-dUHW7"
      }
    },
    {
      "cell_type": "code",
      "source": [
        "ax = sns.countplot(x = df.wellness_program, data = df, hue = df.treatment)\n",
        "for p in ax.patches:\n",
        "   ax.annotate('{:}'.format(p.get_height()), (p.get_x()+0.15, p.get_height()+1.5))"
      ],
      "metadata": {
        "colab": {
          "base_uri": "https://localhost:8080/",
          "height": 280
        },
        "id": "1jTLCdi0UHP2",
        "outputId": "9e302f8e-dbe5-4028-8e10-99f4c9ada4fd"
      },
      "execution_count": null,
      "outputs": [
        {
          "output_type": "display_data",
          "data": {
            "text/plain": [
              "<Figure size 432x288 with 1 Axes>"
            ],
            "image/png": "[encoded data removed]"
          },
          "metadata": {
            "needs_background": "light"
          }
        }
      ]
    },
    {
      "cell_type": "markdown",
      "source": [
        "### Target Variable vs `seek_help`\n",
        "\n",
        "The % of people to receive treatment by `seek_help` are:\n",
        "\n",
        "*   Yes: 58%\n",
        "*   No: 52%\n",
        "*   Don't know: 49%\n",
        "\n",
        "The gap between the maximum and the minumum percentage is 9 percentual points, which could indicate that there is correlation between this variable and the outcome."
      ],
      "metadata": {
        "id": "fYh5uSInUHs3"
      }
    },
    {
      "cell_type": "code",
      "source": [
        "ax = sns.countplot(x = df.seek_help, data = df, hue = df.treatment)\n",
        "for p in ax.patches:\n",
        "   ax.annotate('{:}'.format(p.get_height()), (p.get_x()+0.15, p.get_height()+1.5))"
      ],
      "metadata": {
        "colab": {
          "base_uri": "https://localhost:8080/",
          "height": 280
        },
        "id": "SQCHNlOSUHmr",
        "outputId": "658644b8-8817-4887-dba8-26ebcddff172"
      },
      "execution_count": null,
      "outputs": [
        {
          "output_type": "display_data",
          "data": {
            "text/plain": [
              "<Figure size 432x288 with 1 Axes>"
            ],
            "image/png": "[encoded data removed]"
          },
          "metadata": {
            "needs_background": "light"
          }
        }
      ]
    },
    {
      "cell_type": "markdown",
      "source": [
        "### Target Variable vs `anonymity`\n",
        "\n",
        "The % of people to receive treatment by anonymity` are:\n",
        "\n",
        "*   Yes: 62%\n",
        "*   No: 56%\n",
        "*   Don't know: 48%\n",
        "\n",
        "There is a 14 porcentual points gap between maximum and minimum, which could indicate an influence on the output variable."
      ],
      "metadata": {
        "id": "XiweiRtFUH2b"
      }
    },
    {
      "cell_type": "code",
      "source": [
        "ax = sns.countplot(x = df.anonymity, data = df, hue = df.treatment)\n",
        "for p in ax.patches:\n",
        "   ax.annotate('{:}'.format(p.get_height()), (p.get_x()+0.15, p.get_height()+1.5))"
      ],
      "metadata": {
        "colab": {
          "base_uri": "https://localhost:8080/",
          "height": 279
        },
        "id": "cCutyHgWUHxS",
        "outputId": "1e178b9b-a37e-4990-eb6d-2fb835cb3cb3"
      },
      "execution_count": null,
      "outputs": [
        {
          "output_type": "display_data",
          "data": {
            "text/plain": [
              "<Figure size 432x288 with 1 Axes>"
            ],
            "image/png": "[encoded data removed]"
          },
          "metadata": {
            "needs_background": "light"
          }
        }
      ]
    },
    {
      "cell_type": "markdown",
      "source": [
        "### Target Variable vs `leave`\n",
        "\n",
        "The % of people to receive treatment by `leave` are:\n",
        "\n",
        "*   Very difficult: 71%\n",
        "*   Somewhat difficult: 64%\n",
        "*   Very easy: 53%\n",
        "*   Somewhat easy: 51%\n",
        "*   Don't know: 47%\n",
        "\n",
        "There a significant gap of 24 porcentual points between maximum and minimum, which could indicate an influence on the output variable."
      ],
      "metadata": {
        "id": "jIe0fGH1UIAB"
      }
    },
    {
      "cell_type": "code",
      "source": [
        "ax = sns.countplot(x = df.leave, data = df, hue = df.treatment)\n",
        "for p in ax.patches:\n",
        "   ax.annotate('{:}'.format(p.get_height()), (p.get_x()+0.15, p.get_height()+1.5))"
      ],
      "metadata": {
        "colab": {
          "base_uri": "https://localhost:8080/",
          "height": 279
        },
        "id": "Tp0PYYk0UH6t",
        "outputId": "2e6f5668-2848-4fba-d2e4-5cd4edb0ef07"
      },
      "execution_count": null,
      "outputs": [
        {
          "output_type": "display_data",
          "data": {
            "text/plain": [
              "<Figure size 432x288 with 1 Axes>"
            ],
            "image/png": "[encoded data removed]"
          },
          "metadata": {
            "needs_background": "light"
          }
        }
      ]
    },
    {
      "cell_type": "markdown",
      "source": [
        "### Target Variable vs `mental_health_consequence`\n",
        "\n",
        "The % of people to receive treatment by `mental_health_consequence` are:\n",
        "\n",
        "*   Yes: 60%\n",
        "*   No: 46%\n",
        "*   Maybe: 53%\n",
        "\n",
        "There a significant gap of 14 porcentual points between maximum and minimum, which could indicate an influence on the output variable."
      ],
      "metadata": {
        "id": "3eJaca19UIJP"
      }
    },
    {
      "cell_type": "code",
      "source": [
        "ax = sns.countplot(x = df.mental_health_consequence, data = df, hue = df.treatment)\n",
        "for p in ax.patches:\n",
        "   ax.annotate('{:}'.format(p.get_height()), (p.get_x()+0.15, p.get_height()+1.5))"
      ],
      "metadata": {
        "id": "DGo6t1HGUIEr",
        "colab": {
          "base_uri": "https://localhost:8080/",
          "height": 280
        },
        "outputId": "a32fe090-4d43-4d2e-c38d-eeba47e13946"
      },
      "execution_count": null,
      "outputs": [
        {
          "output_type": "display_data",
          "data": {
            "text/plain": [
              "<Figure size 432x288 with 1 Axes>"
            ],
            "image/png": "[encoded data removed]"
          },
          "metadata": {
            "needs_background": "light"
          }
        }
      ]
    },
    {
      "cell_type": "markdown",
      "source": [
        "### Target Variable vs `phys_health_consequence`\n",
        "\n",
        "The % of people to receive treatment by `phys_health_consequence` are:\n",
        "\n",
        "*   Yes: 57%\n",
        "*   No: 51%\n",
        "*   Maybe: 56%\n",
        "\n",
        "There is a gap of 6 porcentual points between maximum and minimum, which could indicate a lack  of influence on the output variable."
      ],
      "metadata": {
        "id": "4a4uGwV8UITI"
      }
    },
    {
      "cell_type": "code",
      "source": [
        "ax = sns.countplot(x = df.phys_health_consequence, data = df, hue = df.treatment)\n",
        "for p in ax.patches:\n",
        "   ax.annotate('{:}'.format(p.get_height()), (p.get_x()+0.15, p.get_height()+1.5))"
      ],
      "metadata": {
        "colab": {
          "base_uri": "https://localhost:8080/",
          "height": 280
        },
        "id": "ltEo9lNxUIN4",
        "outputId": "28174d2e-97ca-4ae0-eb8c-2038cf78192f"
      },
      "execution_count": null,
      "outputs": [
        {
          "output_type": "display_data",
          "data": {
            "text/plain": [
              "<Figure size 432x288 with 1 Axes>"
            ],
            "image/png": "[encoded data removed]"
          },
          "metadata": {
            "needs_background": "light"
          }
        }
      ]
    },
    {
      "cell_type": "markdown",
      "source": [
        "### Target Variable vs `coworkers`\n",
        "\n",
        "The % of people to receive treatment by `coworkers` are:\n",
        "\n",
        "- Yes: 63%\n",
        "- No: 44%\n",
        "- Some of them: 52%\n",
        "\n",
        "There is a gap of of 19 porcentual points between maximum and minimum, which could indicate influence on the output variable."
      ],
      "metadata": {
        "id": "5LG4ZxgfUIcS"
      }
    },
    {
      "cell_type": "code",
      "source": [
        "ax = sns.countplot(x = df.coworkers, data = df, hue = df.treatment)\n",
        "for p in ax.patches:\n",
        "   ax.annotate('{:}'.format(p.get_height()), (p.get_x()+0.15, p.get_height()+1.5))"
      ],
      "metadata": {
        "colab": {
          "base_uri": "https://localhost:8080/",
          "height": 279
        },
        "id": "7M4CFBJTUIXp",
        "outputId": "256f18fb-ba92-4487-e248-fc61911bf070"
      },
      "execution_count": null,
      "outputs": [
        {
          "output_type": "display_data",
          "data": {
            "text/plain": [
              "<Figure size 432x288 with 1 Axes>"
            ],
            "image/png": "[encoded data removed]"
          },
          "metadata": {
            "needs_background": "light"
          }
        }
      ]
    },
    {
      "cell_type": "markdown",
      "source": [
        "### Target Variable vs `supervisor`\n",
        "\n",
        "The % of people to receive treatment by `supervisor` are:\n",
        "\n",
        "*   Yes: 51%\n",
        "*   No: 52%\n",
        "*   Some of them: 55%\n",
        "\n",
        "There is a gap of of 4 porcentual points between maximum and minimum, which could indicate a lack of influence on the outcome variable if the person is willing to talk with his supervisor about the mental health issue."
      ],
      "metadata": {
        "id": "hCi4shiLUIk9"
      }
    },
    {
      "cell_type": "code",
      "source": [
        "ax = sns.countplot(x = df.supervisor, data = df, hue = df.treatment)\n",
        "for p in ax.patches:\n",
        "   ax.annotate('{:}'.format(p.get_height()), (p.get_x()+0.15, p.get_height()+1.5))"
      ],
      "metadata": {
        "colab": {
          "base_uri": "https://localhost:8080/",
          "height": 279
        },
        "id": "jOwqB4fgUIgp",
        "outputId": "f04d02b7-9d3d-44f4-9cd1-019725bf7b26"
      },
      "execution_count": null,
      "outputs": [
        {
          "output_type": "display_data",
          "data": {
            "text/plain": [
              "<Figure size 432x288 with 1 Axes>"
            ],
            "image/png": "[encoded data removed]"
          },
          "metadata": {
            "needs_background": "light"
          }
        }
      ]
    },
    {
      "cell_type": "markdown",
      "source": [
        "### Target Variable vs `mental_health_interview`\n",
        "\n",
        "The % of people to receive treatment by `mental_health_interview` are:\n",
        "\n",
        "*   Yes: 65%\n",
        "*   No: 54%\n",
        "*   Maybe: 42%\n",
        "\n",
        "There is a gap of of 9 porcentual points between maximum and minimum, this could indicate influence on the output variable."
      ],
      "metadata": {
        "id": "yKDf0UGrkPEp"
      }
    },
    {
      "cell_type": "code",
      "source": [
        "ax = sns.countplot(x = df.mental_health_interview, data = df, hue = df.treatment)\n",
        "for p in ax.patches:\n",
        "   ax.annotate('{:}'.format(p.get_height()), (p.get_x()+0.15, p.get_height()+1.5))"
      ],
      "metadata": {
        "colab": {
          "base_uri": "https://localhost:8080/",
          "height": 280
        },
        "id": "hJeJKoAnkO9D",
        "outputId": "0f80b8e7-1ec3-479e-8add-a349c6bb0db1"
      },
      "execution_count": null,
      "outputs": [
        {
          "output_type": "display_data",
          "data": {
            "text/plain": [
              "<Figure size 432x288 with 1 Axes>"
            ],
            "image/png": "[encoded data removed]"
          },
          "metadata": {
            "needs_background": "light"
          }
        }
      ]
    },
    {
      "cell_type": "markdown",
      "source": [
        "### Target Variable vs `phys_health_interview`\n",
        "\n",
        "The % of people to receive treatment by `phys_health_interview` are:\n",
        "\n",
        "*   Yes: 56%\n",
        "*   No: 52%\n",
        "*   Maybe: 51%\n",
        "\n",
        "There is a gap of of 5 porcentual points between maximum and minimum, this could indicate a lack of influence on the outcome variable if a person bring up a physical issue in an interview."
      ],
      "metadata": {
        "id": "pB_UqJ4AkPTy"
      }
    },
    {
      "cell_type": "code",
      "source": [
        "ax = sns.countplot(x = df.phys_health_interview, data = df, hue = df.treatment)\n",
        "for p in ax.patches:\n",
        "   ax.annotate('{:}'.format(p.get_height()), (p.get_x()+0.15, p.get_height()+1.5))"
      ],
      "metadata": {
        "colab": {
          "base_uri": "https://localhost:8080/",
          "height": 281
        },
        "id": "uGNiNjBVkPPL",
        "outputId": "f120aa83-89a8-4558-fa74-36797adc7be2"
      },
      "execution_count": null,
      "outputs": [
        {
          "output_type": "display_data",
          "data": {
            "text/plain": [
              "<Figure size 432x288 with 1 Axes>"
            ],
            "image/png": "[encoded data removed]"
          },
          "metadata": {
            "needs_background": "light"
          }
        }
      ]
    },
    {
      "cell_type": "markdown",
      "source": [
        "### Target Variable vs `mental_vs_physical`\n",
        "\n",
        "The % of people to receive treatment by `mental_vs_physical` are:\n",
        "\n",
        "*   Yes: 61%\n",
        "*   No: 61%\n",
        "*   Maybe: 47%\n",
        "\n",
        "There is a clear difference when the answer \"Don't know\" to this questions on the outcome variable."
      ],
      "metadata": {
        "id": "FOJucewokPbb"
      }
    },
    {
      "cell_type": "code",
      "source": [
        "ax = sns.countplot(x = df.mental_vs_physical, data = df, hue = df.treatment)\n",
        "for p in ax.patches:\n",
        "   ax.annotate('{:}'.format(p.get_height()), (p.get_x()+0.15, p.get_height()+1.5))"
      ],
      "metadata": {
        "colab": {
          "base_uri": "https://localhost:8080/",
          "height": 280
        },
        "id": "X7dbt9oVkPXz",
        "outputId": "782f54ae-7953-4712-9c11-58dded99c5dd"
      },
      "execution_count": null,
      "outputs": [
        {
          "output_type": "display_data",
          "data": {
            "text/plain": [
              "<Figure size 432x288 with 1 Axes>"
            ],
            "image/png": "[encoded data removed]"
          },
          "metadata": {
            "needs_background": "light"
          }
        }
      ]
    },
    {
      "cell_type": "markdown",
      "source": [
        "### Target Variable vs `obs_consequence`\n",
        "\n",
        "The % of people to receive treatment are as follows by **obs_consequence**:\n",
        "\n",
        "*   Yes: 68%\n",
        "*   No: 49%\n",
        "\n",
        "There is a clear difference when the answer  to this questions is \"Yes\" on the outcome variable."
      ],
      "metadata": {
        "id": "7R693aD9kPhr"
      }
    },
    {
      "cell_type": "code",
      "source": [
        "ax = sns.countplot(x = df.obs_consequence, data = df, hue = df.treatment)\n",
        "for p in ax.patches:\n",
        "   ax.annotate('{:}'.format(p.get_height()), (p.get_x()+0.15, p.get_height()+1.5))"
      ],
      "metadata": {
        "colab": {
          "base_uri": "https://localhost:8080/",
          "height": 280
        },
        "id": "lrLZfmr3kPer",
        "outputId": "7ac2971f-7009-423e-ae03-095809ad4d5e"
      },
      "execution_count": null,
      "outputs": [
        {
          "output_type": "display_data",
          "data": {
            "text/plain": [
              "<Figure size 432x288 with 1 Axes>"
            ],
            "image/png": "[encoded data removed]"
          },
          "metadata": {
            "needs_background": "light"
          }
        }
      ]
    },
    {
      "cell_type": "markdown",
      "source": [
        "## Variable Selection\n"
      ],
      "metadata": {
        "id": "Dyezzp8wJSWv"
      }
    },
    {
      "cell_type": "markdown",
      "source": [
        "### Variable Importance\n",
        "\n",
        "Due to the lack of importance on the outcome variable previously analyzed we decided to not consider the following varibles:\n",
        "\n",
        "- `self_employed`\n",
        "- `remote_work`\n",
        "- `tech_company`\n",
        "- `wellness_program`\n",
        "- `supervisor`\n",
        "- `phys_health_interview`\n",
        "- `phys_health_consequence`"
      ],
      "metadata": {
        "id": "FAp3JWfUJtKO"
      }
    },
    {
      "cell_type": "markdown",
      "source": [
        "### Variables with NA\n",
        "\n",
        "During the analysis we identified some variables with NA, so we decided to do not considered in the model:\n",
        "\n",
        "- `state`\n",
        "- `comments`\n",
        "- `work_interfere`\n"
      ],
      "metadata": {
        "id": "INwyh_cCKU45"
      }
    },
    {
      "cell_type": "code",
      "source": [
        "df1=df.drop(['state','comments','work_interfere','Timestamp','Country'], axis = 1)\n",
        "df1.columns"
      ],
      "metadata": {
        "colab": {
          "base_uri": "https://localhost:8080/"
        },
        "id": "vbNCAhV-wlQR",
        "outputId": "150946bc-ec0c-4d9b-9c32-5ddc364b7137"
      },
      "execution_count": null,
      "outputs": [
        {
          "output_type": "execute_result",
          "data": {
            "text/plain": [
              "Index(['Age', 'Gender', 'self_employed', 'family_history', 'treatment',\n",
              "       'no_employees', 'remote_work', 'tech_company', 'benefits',\n",
              "       'care_options', 'wellness_program', 'seek_help', 'anonymity', 'leave',\n",
              "       'mental_health_consequence', 'phys_health_consequence', 'coworkers',\n",
              "       'supervisor', 'mental_health_interview', 'phys_health_interview',\n",
              "       'mental_vs_physical', 'obs_consequence'],\n",
              "      dtype='object')"
            ]
          },
          "metadata": {},
          "execution_count": 43
        }
      ]
    },
    {
      "cell_type": "markdown",
      "source": [
        "## Data Preprocessing"
      ],
      "metadata": {
        "id": "l8PfHqGqNPwW"
      }
    },
    {
      "cell_type": "markdown",
      "source": [
        "Due to the Support Vector Machine functionality we transform the categorical variables to dummy variable encoding, making sure that we have *k-1* variables to avoid *redundancy*."
      ],
      "metadata": {
        "id": "95MPIxYHWC04"
      }
    },
    {
      "cell_type": "code",
      "source": [
        "df2=pd.get_dummies(df1,columns=['Gender','self_employed',\n",
        "       'family_history', 'treatment','no_employees',\n",
        "       'remote_work', 'tech_company', 'benefits', 'care_options',\n",
        "       'wellness_program', 'seek_help', 'anonymity', 'leave',\n",
        "       'mental_health_consequence', 'phys_health_consequence', 'coworkers',\n",
        "       'supervisor', 'mental_health_interview', 'phys_health_interview',\n",
        "       'mental_vs_physical', 'obs_consequence'],drop_first=True)\n",
        "df2=df2.rename(columns={'treatment_Yes':'treatment'})\n",
        "df2.columns"
      ],
      "metadata": {
        "colab": {
          "base_uri": "https://localhost:8080/"
        },
        "id": "nI6mHkpeVGLA",
        "outputId": "ed6d9800-ac90-433e-8c5b-9313d90e33de"
      },
      "execution_count": null,
      "outputs": [
        {
          "output_type": "execute_result",
          "data": {
            "text/plain": [
              "Index(['Age', 'Gender_Others', 'Gender_Woman', 'self_employed_Yes',\n",
              "       'family_history_Yes', 'treatment', 'no_employees_100-500',\n",
              "       'no_employees_26-100', 'no_employees_500-1000', 'no_employees_6-25',\n",
              "       'no_employees_More than 1000', 'remote_work_Yes', 'tech_company_Yes',\n",
              "       'benefits_No', 'benefits_Yes', 'care_options_Not sure',\n",
              "       'care_options_Yes', 'wellness_program_No', 'wellness_program_Yes',\n",
              "       'seek_help_No', 'seek_help_Yes', 'anonymity_No', 'anonymity_Yes',\n",
              "       'leave_Somewhat difficult', 'leave_Somewhat easy',\n",
              "       'leave_Very difficult', 'leave_Very easy',\n",
              "       'mental_health_consequence_No', 'mental_health_consequence_Yes',\n",
              "       'phys_health_consequence_No', 'phys_health_consequence_Yes',\n",
              "       'coworkers_Some of them', 'coworkers_Yes', 'supervisor_Some of them',\n",
              "       'supervisor_Yes', 'mental_health_interview_No',\n",
              "       'mental_health_interview_Yes', 'phys_health_interview_No',\n",
              "       'phys_health_interview_Yes', 'mental_vs_physical_No',\n",
              "       'mental_vs_physical_Yes', 'obs_consequence_Yes'],\n",
              "      dtype='object')"
            ]
          },
          "metadata": {},
          "execution_count": 44
        }
      ]
    },
    {
      "cell_type": "code",
      "source": [
        "df2.head()"
      ],
      "metadata": {
        "colab": {
          "base_uri": "https://localhost:8080/",
          "height": 317
        },
        "id": "YET_5twLm43z",
        "outputId": "bd0d9a9b-b715-4f72-dd22-3321fe94d8b2"
      },
      "execution_count": null,
      "outputs": [
        {
          "output_type": "execute_result",
          "data": {
            "text/plain": [
              "   Age  Gender_Others  Gender_Woman  self_employed_Yes  family_history_Yes  \\\n",
              "0   37              0             1                  0                   0   \n",
              "1   44              0             0                  1                   0   \n",
              "2   32              0             0                  0                   0   \n",
              "3   31              0             0                  0                   1   \n",
              "4   31              0             0                  0                   0   \n",
              "\n",
              "   treatment  no_employees_100-500  no_employees_26-100  \\\n",
              "0          1                     0                    0   \n",
              "1          0                     0                    0   \n",
              "2          0                     0                    0   \n",
              "3          1                     0                    1   \n",
              "4          0                     1                    0   \n",
              "\n",
              "   no_employees_500-1000  no_employees_6-25  ...  coworkers_Yes  \\\n",
              "0                      0                  1  ...              0   \n",
              "1                      0                  0  ...              0   \n",
              "2                      0                  1  ...              1   \n",
              "3                      0                  0  ...              0   \n",
              "4                      0                  0  ...              0   \n",
              "\n",
              "   supervisor_Some of them  supervisor_Yes  mental_health_interview_No  \\\n",
              "0                        0               1                           1   \n",
              "1                        0               0                           1   \n",
              "2                        0               1                           0   \n",
              "3                        0               0                           0   \n",
              "4                        0               1                           0   \n",
              "\n",
              "   mental_health_interview_Yes  phys_health_interview_No  \\\n",
              "0                            0                         0   \n",
              "1                            0                         1   \n",
              "2                            1                         0   \n",
              "3                            0                         0   \n",
              "4                            1                         0   \n",
              "\n",
              "   phys_health_interview_Yes  mental_vs_physical_No  mental_vs_physical_Yes  \\\n",
              "0                          0                      0                       1   \n",
              "1                          0                      0                       0   \n",
              "2                          1                      1                       0   \n",
              "3                          0                      1                       0   \n",
              "4                          1                      0                       0   \n",
              "\n",
              "   obs_consequence_Yes  \n",
              "0                    0  \n",
              "1                    0  \n",
              "2                    0  \n",
              "3                    1  \n",
              "4                    0  \n",
              "\n",
              "[5 rows x 42 columns]"
            ],
            "text/html": [
              "\n",
              "  <div id=\"df-70b42dd0-9c67-4a93-b53b-5c819dd6d723\">\n",
              "    <div class=\"colab-df-container\">\n",
              "      <div>\n",
              "<style scoped>\n",
              "    .dataframe tbody tr th:only-of-type {\n",
              "        vertical-align: middle;\n",
              "    }\n",
              "\n",
              "    .dataframe tbody tr th {\n",
              "        vertical-align: top;\n",
              "    }\n",
              "\n",
              "    .dataframe thead th {\n",
              "        text-align: right;\n",
              "    }\n",
              "</style>\n",
              "<table border=\"1\" class=\"dataframe\">\n",
              "  <thead>\n",
              "    <tr style=\"text-align: right;\">\n",
              "      <th></th>\n",
              "      <th>Age</th>\n",
              "      <th>Gender_Others</th>\n",
              "      <th>Gender_Woman</th>\n",
              "      <th>self_employed_Yes</th>\n",
              "      <th>family_history_Yes</th>\n",
              "      <th>treatment</th>\n",
              "      <th>no_employees_100-500</th>\n",
              "      <th>no_employees_26-100</th>\n",
              "      <th>no_employees_500-1000</th>\n",
              "      <th>no_employees_6-25</th>\n",
              "      <th>...</th>\n",
              "      <th>coworkers_Yes</th>\n",
              "      <th>supervisor_Some of them</th>\n",
              "      <th>supervisor_Yes</th>\n",
              "      <th>mental_health_interview_No</th>\n",
              "      <th>mental_health_interview_Yes</th>\n",
              "      <th>phys_health_interview_No</th>\n",
              "      <th>phys_health_interview_Yes</th>\n",
              "      <th>mental_vs_physical_No</th>\n",
              "      <th>mental_vs_physical_Yes</th>\n",
              "      <th>obs_consequence_Yes</th>\n",
              "    </tr>\n",
              "  </thead>\n",
              "  <tbody>\n",
              "    <tr>\n",
              "      <th>0</th>\n",
              "      <td>37</td>\n",
              "      <td>0</td>\n",
              "      <td>1</td>\n",
              "      <td>0</td>\n",
              "      <td>0</td>\n",
              "      <td>1</td>\n",
              "      <td>0</td>\n",
              "      <td>0</td>\n",
              "      <td>0</td>\n",
              "      <td>1</td>\n",
              "      <td>...</td>\n",
              "      <td>0</td>\n",
              "      <td>0</td>\n",
              "      <td>1</td>\n",
              "      <td>1</td>\n",
              "      <td>0</td>\n",
              "      <td>0</td>\n",
              "      <td>0</td>\n",
              "      <td>0</td>\n",
              "      <td>1</td>\n",
              "      <td>0</td>\n",
              "    </tr>\n",
              "    <tr>\n",
              "      <th>1</th>\n",
              "      <td>44</td>\n",
              "      <td>0</td>\n",
              "      <td>0</td>\n",
              "      <td>1</td>\n",
              "      <td>0</td>\n",
              "      <td>0</td>\n",
              "      <td>0</td>\n",
              "      <td>0</td>\n",
              "      <td>0</td>\n",
              "      <td>0</td>\n",
              "      <td>...</td>\n",
              "      <td>0</td>\n",
              "      <td>0</td>\n",
              "      <td>0</td>\n",
              "      <td>1</td>\n",
              "      <td>0</td>\n",
              "      <td>1</td>\n",
              "      <td>0</td>\n",
              "      <td>0</td>\n",
              "      <td>0</td>\n",
              "      <td>0</td>\n",
              "    </tr>\n",
              "    <tr>\n",
              "      <th>2</th>\n",
              "      <td>32</td>\n",
              "      <td>0</td>\n",
              "      <td>0</td>\n",
              "      <td>0</td>\n",
              "      <td>0</td>\n",
              "      <td>0</td>\n",
              "      <td>0</td>\n",
              "      <td>0</td>\n",
              "      <td>0</td>\n",
              "      <td>1</td>\n",
              "      <td>...</td>\n",
              "      <td>1</td>\n",
              "      <td>0</td>\n",
              "      <td>1</td>\n",
              "      <td>0</td>\n",
              "      <td>1</td>\n",
              "      <td>0</td>\n",
              "      <td>1</td>\n",
              "      <td>1</td>\n",
              "      <td>0</td>\n",
              "      <td>0</td>\n",
              "    </tr>\n",
              "    <tr>\n",
              "      <th>3</th>\n",
              "      <td>31</td>\n",
              "      <td>0</td>\n",
              "      <td>0</td>\n",
              "      <td>0</td>\n",
              "      <td>1</td>\n",
              "      <td>1</td>\n",
              "      <td>0</td>\n",
              "      <td>1</td>\n",
              "      <td>0</td>\n",
              "      <td>0</td>\n",
              "      <td>...</td>\n",
              "      <td>0</td>\n",
              "      <td>0</td>\n",
              "      <td>0</td>\n",
              "      <td>0</td>\n",
              "      <td>0</td>\n",
              "      <td>0</td>\n",
              "      <td>0</td>\n",
              "      <td>1</td>\n",
              "      <td>0</td>\n",
              "      <td>1</td>\n",
              "    </tr>\n",
              "    <tr>\n",
              "      <th>4</th>\n",
              "      <td>31</td>\n",
              "      <td>0</td>\n",
              "      <td>0</td>\n",
              "      <td>0</td>\n",
              "      <td>0</td>\n",
              "      <td>0</td>\n",
              "      <td>1</td>\n",
              "      <td>0</td>\n",
              "      <td>0</td>\n",
              "      <td>0</td>\n",
              "      <td>...</td>\n",
              "      <td>0</td>\n",
              "      <td>0</td>\n",
              "      <td>1</td>\n",
              "      <td>0</td>\n",
              "      <td>1</td>\n",
              "      <td>0</td>\n",
              "      <td>1</td>\n",
              "      <td>0</td>\n",
              "      <td>0</td>\n",
              "      <td>0</td>\n",
              "    </tr>\n",
              "  </tbody>\n",
              "</table>\n",
              "<p>5 rows × 42 columns</p>\n",
              "</div>\n",
              "      <button class=\"colab-df-convert\" onclick=\"convertToInteractive('df-70b42dd0-9c67-4a93-b53b-5c819dd6d723')\"\n",
              "              title=\"Convert this dataframe to an interactive table.\"\n",
              "              style=\"display:none;\">\n",
              "        \n",
              "  <svg xmlns=\"http://www.w3.org/2000/svg\" height=\"24px\"viewBox=\"0 0 24 24\"\n",
              "       width=\"24px\">\n",
              "    <path d=\"M0 0h24v24H0V0z\" fill=\"none\"/>\n",
              "    <path d=\"M18.56 5.44l.94 2.06.94-2.06 2.06-.94-2.06-.94-.94-2.06-.94 2.06-2.06.94zm-11 1L8.5 8.5l.94-2.06 2.06-.94-2.06-.94L8.5 2.5l-.94 2.06-2.06.94zm10 10l.94 2.06.94-2.06 2.06-.94-2.06-.94-.94-2.06-.94 2.06-2.06.94z\"/><path d=\"M17.41 7.96l-1.37-1.37c-.4-.4-.92-.59-1.43-.59-.52 0-1.04.2-1.43.59L10.3 9.45l-7.72 7.72c-.78.78-.78 2.05 0 2.83L4 21.41c.39.39.9.59 1.41.59.51 0 1.02-.2 1.41-.59l7.78-7.78 2.81-2.81c.8-.78.8-2.07 0-2.86zM5.41 20L4 18.59l7.72-7.72 1.47 1.35L5.41 20z\"/>\n",
              "  </svg>\n",
              "      </button>\n",
              "      \n",
              "  <style>\n",
              "    .colab-df-container {\n",
              "      display:flex;\n",
              "      flex-wrap:wrap;\n",
              "      gap: 12px;\n",
              "    }\n",
              "\n",
              "    .colab-df-convert {\n",
              "      background-color: #E8F0FE;\n",
              "      border: none;\n",
              "      border-radius: 50%;\n",
              "      cursor: pointer;\n",
              "      display: none;\n",
              "      fill: #1967D2;\n",
              "      height: 32px;\n",
              "      padding: 0 0 0 0;\n",
              "      width: 32px;\n",
              "    }\n",
              "\n",
              "    .colab-df-convert:hover {\n",
              "      background-color: #E2EBFA;\n",
              "      box-shadow: 0px 1px 2px rgba(60, 64, 67, 0.3), 0px 1px 3px 1px rgba(60, 64, 67, 0.15);\n",
              "      fill: #174EA6;\n",
              "    }\n",
              "\n",
              "    [theme=dark] .colab-df-convert {\n",
              "      background-color: #3B4455;\n",
              "      fill: #D2E3FC;\n",
              "    }\n",
              "\n",
              "    [theme=dark] .colab-df-convert:hover {\n",
              "      background-color: #434B5C;\n",
              "      box-shadow: 0px 1px 3px 1px rgba(0, 0, 0, 0.15);\n",
              "      filter: drop-shadow(0px 1px 2px rgba(0, 0, 0, 0.3));\n",
              "      fill: #FFFFFF;\n",
              "    }\n",
              "  </style>\n",
              "\n",
              "      <script>\n",
              "        const buttonEl =\n",
              "          document.querySelector('#df-70b42dd0-9c67-4a93-b53b-5c819dd6d723 button.colab-df-convert');\n",
              "        buttonEl.style.display =\n",
              "          google.colab.kernel.accessAllowed ? 'block' : 'none';\n",
              "\n",
              "        async function convertToInteractive(key) {\n",
              "          const element = document.querySelector('#df-70b42dd0-9c67-4a93-b53b-5c819dd6d723');\n",
              "          const dataTable =\n",
              "            await google.colab.kernel.invokeFunction('convertToInteractive',\n",
              "                                                     [key], {});\n",
              "          if (!dataTable) return;\n",
              "\n",
              "          const docLinkHtml = 'Like what you see? Visit the ' +\n",
              "            '<a target=\"_blank\" href=https://colab.research.google.com/notebooks/data_table.ipynb>data table notebook</a>'\n",
              "            + ' to learn more about interactive tables.';\n",
              "          element.innerHTML = '';\n",
              "          dataTable['output_type'] = 'display_data';\n",
              "          await google.colab.output.renderOutput(dataTable, element);\n",
              "          const docLink = document.createElement('div');\n",
              "          docLink.innerHTML = docLinkHtml;\n",
              "          element.appendChild(docLink);\n",
              "        }\n",
              "      </script>\n",
              "    </div>\n",
              "  </div>\n",
              "  "
            ]
          },
          "metadata": {},
          "execution_count": 45
        }
      ]
    },
    {
      "cell_type": "markdown",
      "source": [
        "### Data Split"
      ],
      "metadata": {
        "id": "dGQm2D90Woff"
      }
    },
    {
      "cell_type": "markdown",
      "source": [
        "We split the data into *train 60%*, *validation 20%* and *test 20%*, and afterwards the data is scaled.\n",
        "\n",
        "\n"
      ],
      "metadata": {
        "id": "5xCFs6-4XPzf"
      }
    },
    {
      "cell_type": "code",
      "source": [
        "X_train, X_test, y_train, y_test = train_test_split(df2.drop(['treatment'], axis=1), df2.treatment, test_size=0.2, random_state=109)"
      ],
      "metadata": {
        "id": "ne7LIkEJcA9E"
      },
      "execution_count": null,
      "outputs": []
    },
    {
      "cell_type": "code",
      "source": [
        "sc = StandardScaler()\n",
        "X_train = sc.fit_transform(X_train)\n",
        "X_test = sc.transform(X_test)"
      ],
      "metadata": {
        "id": "hHp_IgsOcadE"
      },
      "execution_count": null,
      "outputs": []
    },
    {
      "cell_type": "markdown",
      "source": [
        "## Support Vector Classifier - L2\n",
        "\n",
        "**Primal**\n",
        "\n",
        "$$\\min_{w, b, \\xi} \\mathcal{P}(w, \\xi)=\\frac{1}{2} w^{T} w+ \\frac{c}{2} \\sum_{k=1}^{N} \\xi_{k}^{2}$$\n",
        "\n",
        "\n",
        "$$\n",
        "\\begin{array}{l}\n",
        "s.t.\\;\\;\\; y_{k}\\left[w^{T} \\varphi\\left(x_{k}\\right)+b\\right] \\geq 1-\\xi_{k}, \\quad k=1, \\ldots, N \\\\\n",
        "\\end{array}\n",
        "\\\\\n",
        "$$\n",
        "\n",
        "where $y_{k} \\in\\{-1,1\\}$ is the response (target) variable, $\\xi_{k} \\in \\mathbb{R}^{n}$ are slack variables, and $c>0$. The feature maps have the form $\\varphi(\\cdot): \\mathbb{R}^{n} \\rightarrow \\mathbb{R}^{m}$. Then, the model's parameters are $w \\in \\mathbb{R}^{m}$ and $b \\in \\mathbb{R}$.\n",
        "\n",
        "**Dual Function**\n",
        "\n",
        "$$D(\\alpha)_{\\max \\alpha}=-\\frac{1}{2} \\sum_{l,k=1}^{N} \\alpha_{l} \\alpha_{k} y_{l} y_{k} \\varphi\\left(x_{l}\\right)^{\\top} \\varphi\\left(x_{k}\\right)-\\frac{1}{2 c} \\sum_{l,k=1}^{N} \\alpha_{k} \\alpha_{l}+\\sum_{k=1}^{N} \\alpha_{k}$$\n",
        "\n",
        "\n",
        "$$s.t. \\sum_{k=1}^{N} \\alpha_{k} y_{k}=0,\\   \\alpha_{k} \\geq 0,\\  k=1, \\ldots, N$$"
      ],
      "metadata": {
        "id": "k27MvLPMXodM"
      }
    },
    {
      "cell_type": "markdown",
      "source": [
        "#### SVM Classifier with RBF Kernel\n",
        "\n",
        "Radial Basis Function Kernel is one of the most used due to it's similarity to Gaussian distribution.\n",
        "\n",
        "The RFB computes how close are the points to each other, for two point $X_{1}$ and $X_{2}$ can be mathematically expressed as:\n",
        "\n",
        "$$K(X_{1},X_{2})=exp(-\\frac{||X_{1}-X_{2}||^{2}}{2\\sigma^{2}})$$\n",
        "\n",
        "where \n",
        "- $\\sigma$ is the variance and the hyperparameter.\n",
        "- $||X_{1}-X_{2}||$ is the Euclidean (L2-norm) distance between the points.\n",
        "\n",
        "The maximum value than the RBF Kernel can take is 1 and it happens whe the distance between the points is cero $||X_{1}-X_{2}||$.\n",
        "\n",
        "- When the points are the same, there is no distance between them and therefore they are extremely similar.\n",
        "\n",
        "- When the points are separated by a large distance, then the kernel value is less than 1 and close to 0 which would mean that the points are dissimilar.\n",
        "\n",
        "It is important to find the right value of $\\sigma$ to identify which points should be considered similar.\n"
      ],
      "metadata": {
        "id": "hc1Z5dWAh88-"
      }
    },
    {
      "cell_type": "markdown",
      "source": [
        "##### Hyperparameters tuning\n",
        "\n",
        "Cross Validation Method was performed with 5-folds to optimize the hyperparameters using `f1`metric.\n"
      ],
      "metadata": {
        "id": "tZlqXgT9aPBj"
      }
    },
    {
      "cell_type": "code",
      "source": [
        "tuned_parameters = [{\"kernel\": [\"rbf\"], \"gamma\":[0.1, 0.01, 0.001, 0.0001], \"C\": [0.01,0.1,0.2,0.5,1,1.1,2.5,5,10,25,50,70,80,100,1000]},]\n",
        "\n",
        "\n",
        "grid_rbf = GridSearchCV(SVC(), tuned_parameters, scoring='f1')\n",
        "grid_rbf.fit(X_train,y_train)\n",
        "\n",
        "grid_rbf.best_params_\n"
      ],
      "metadata": {
        "colab": {
          "base_uri": "https://localhost:8080/"
        },
        "id": "bii7MYwoiQSj",
        "outputId": "a95d152c-5f1d-4b96-e3c5-14cdf13a8f36"
      },
      "execution_count": null,
      "outputs": [
        {
          "output_type": "execute_result",
          "data": {
            "text/plain": [
              "{'C': 100, 'gamma': 0.001, 'kernel': 'rbf'}"
            ]
          },
          "metadata": {},
          "execution_count": 120
        }
      ]
    },
    {
      "cell_type": "code",
      "source": [
        "grid_rbf.best_score_"
      ],
      "metadata": {
        "colab": {
          "base_uri": "https://localhost:8080/"
        },
        "id": "sbvIZ0Yy6-Z4",
        "outputId": "de872ed8-63b8-4c3c-ad89-24d8e82cf790"
      },
      "execution_count": null,
      "outputs": [
        {
          "output_type": "execute_result",
          "data": {
            "text/plain": [
              "0.718512401051983"
            ]
          },
          "metadata": {},
          "execution_count": 121
        }
      ]
    },
    {
      "cell_type": "markdown",
      "source": [
        "##### Training\n",
        "\n",
        "Now with the train data an SVC model is trained using the optimal hyperparameters `C = 100` and `Gamma = 0.001`."
      ],
      "metadata": {
        "id": "ofD79nb0xpXY"
      }
    },
    {
      "cell_type": "code",
      "source": [
        "# Creating SVM Model classifier\n",
        "svm_rbf = svm.SVC(kernel=\"rbf\", C = 100, gamma = 0.001)\n",
        "# Train the model\n",
        "svm_rbf.fit(X_train,y_train)"
      ],
      "metadata": {
        "id": "xe4NXJ8VXfnO",
        "colab": {
          "base_uri": "https://localhost:8080/"
        },
        "outputId": "4501e883-d87f-4ef3-9d7c-b7eaedf57186"
      },
      "execution_count": null,
      "outputs": [
        {
          "output_type": "execute_result",
          "data": {
            "text/plain": [
              "SVC(C=100, gamma=0.001)"
            ]
          },
          "metadata": {},
          "execution_count": 122
        }
      ]
    },
    {
      "cell_type": "markdown",
      "source": [
        "##### Predictions and Performance\n",
        "\n",
        "We used the test data to estimate the outcome variable."
      ],
      "metadata": {
        "id": "wQcHDN01oJj9"
      }
    },
    {
      "cell_type": "code",
      "source": [
        "# Predict the response\n",
        "pred_rbf = svm_rbf.predict(X_test)\n",
        "pred_rbf[0:5]"
      ],
      "metadata": {
        "colab": {
          "base_uri": "https://localhost:8080/"
        },
        "id": "GywgTKQ_oLtN",
        "outputId": "52be6944-d842-43ed-cfe4-eebf4819f28e"
      },
      "execution_count": null,
      "outputs": [
        {
          "output_type": "execute_result",
          "data": {
            "text/plain": [
              "array([0, 0, 0, 0, 1], dtype=uint8)"
            ]
          },
          "metadata": {},
          "execution_count": 123
        }
      ]
    },
    {
      "cell_type": "markdown",
      "source": [
        "###### Confusion Matrix\n"
      ],
      "metadata": {
        "id": "s0deoDrlzNw6"
      }
    },
    {
      "cell_type": "code",
      "source": [
        "cm_rbf = confusion_matrix(y_test, pred_rbf)\n",
        "pd.DataFrame(cm_rbf, columns=['No','Yes'],index=[\"No\",\"Yes\"])"
      ],
      "metadata": {
        "colab": {
          "base_uri": "https://localhost:8080/",
          "height": 112
        },
        "id": "7j9HSyE5yu6U",
        "outputId": "c86d944e-9a46-4fbf-c503-5f11db54c6e9"
      },
      "execution_count": null,
      "outputs": [
        {
          "output_type": "execute_result",
          "data": {
            "text/plain": [
              "     No  Yes\n",
              "No   99   26\n",
              "Yes  42   85"
            ],
            "text/html": [
              "\n",
              "  <div id=\"df-1da6861d-5ece-4af0-b0da-37b5dd22acfa\">\n",
              "    <div class=\"colab-df-container\">\n",
              "      <div>\n",
              "<style scoped>\n",
              "    .dataframe tbody tr th:only-of-type {\n",
              "        vertical-align: middle;\n",
              "    }\n",
              "\n",
              "    .dataframe tbody tr th {\n",
              "        vertical-align: top;\n",
              "    }\n",
              "\n",
              "    .dataframe thead th {\n",
              "        text-align: right;\n",
              "    }\n",
              "</style>\n",
              "<table border=\"1\" class=\"dataframe\">\n",
              "  <thead>\n",
              "    <tr style=\"text-align: right;\">\n",
              "      <th></th>\n",
              "      <th>No</th>\n",
              "      <th>Yes</th>\n",
              "    </tr>\n",
              "  </thead>\n",
              "  <tbody>\n",
              "    <tr>\n",
              "      <th>No</th>\n",
              "      <td>99</td>\n",
              "      <td>26</td>\n",
              "    </tr>\n",
              "    <tr>\n",
              "      <th>Yes</th>\n",
              "      <td>42</td>\n",
              "      <td>85</td>\n",
              "    </tr>\n",
              "  </tbody>\n",
              "</table>\n",
              "</div>\n",
              "      <button class=\"colab-df-convert\" onclick=\"convertToInteractive('df-1da6861d-5ece-4af0-b0da-37b5dd22acfa')\"\n",
              "              title=\"Convert this dataframe to an interactive table.\"\n",
              "              style=\"display:none;\">\n",
              "        \n",
              "  <svg xmlns=\"http://www.w3.org/2000/svg\" height=\"24px\"viewBox=\"0 0 24 24\"\n",
              "       width=\"24px\">\n",
              "    <path d=\"M0 0h24v24H0V0z\" fill=\"none\"/>\n",
              "    <path d=\"M18.56 5.44l.94 2.06.94-2.06 2.06-.94-2.06-.94-.94-2.06-.94 2.06-2.06.94zm-11 1L8.5 8.5l.94-2.06 2.06-.94-2.06-.94L8.5 2.5l-.94 2.06-2.06.94zm10 10l.94 2.06.94-2.06 2.06-.94-2.06-.94-.94-2.06-.94 2.06-2.06.94z\"/><path d=\"M17.41 7.96l-1.37-1.37c-.4-.4-.92-.59-1.43-.59-.52 0-1.04.2-1.43.59L10.3 9.45l-7.72 7.72c-.78.78-.78 2.05 0 2.83L4 21.41c.39.39.9.59 1.41.59.51 0 1.02-.2 1.41-.59l7.78-7.78 2.81-2.81c.8-.78.8-2.07 0-2.86zM5.41 20L4 18.59l7.72-7.72 1.47 1.35L5.41 20z\"/>\n",
              "  </svg>\n",
              "      </button>\n",
              "      \n",
              "  <style>\n",
              "    .colab-df-container {\n",
              "      display:flex;\n",
              "      flex-wrap:wrap;\n",
              "      gap: 12px;\n",
              "    }\n",
              "\n",
              "    .colab-df-convert {\n",
              "      background-color: #E8F0FE;\n",
              "      border: none;\n",
              "      border-radius: 50%;\n",
              "      cursor: pointer;\n",
              "      display: none;\n",
              "      fill: #1967D2;\n",
              "      height: 32px;\n",
              "      padding: 0 0 0 0;\n",
              "      width: 32px;\n",
              "    }\n",
              "\n",
              "    .colab-df-convert:hover {\n",
              "      background-color: #E2EBFA;\n",
              "      box-shadow: 0px 1px 2px rgba(60, 64, 67, 0.3), 0px 1px 3px 1px rgba(60, 64, 67, 0.15);\n",
              "      fill: #174EA6;\n",
              "    }\n",
              "\n",
              "    [theme=dark] .colab-df-convert {\n",
              "      background-color: #3B4455;\n",
              "      fill: #D2E3FC;\n",
              "    }\n",
              "\n",
              "    [theme=dark] .colab-df-convert:hover {\n",
              "      background-color: #434B5C;\n",
              "      box-shadow: 0px 1px 3px 1px rgba(0, 0, 0, 0.15);\n",
              "      filter: drop-shadow(0px 1px 2px rgba(0, 0, 0, 0.3));\n",
              "      fill: #FFFFFF;\n",
              "    }\n",
              "  </style>\n",
              "\n",
              "      <script>\n",
              "        const buttonEl =\n",
              "          document.querySelector('#df-1da6861d-5ece-4af0-b0da-37b5dd22acfa button.colab-df-convert');\n",
              "        buttonEl.style.display =\n",
              "          google.colab.kernel.accessAllowed ? 'block' : 'none';\n",
              "\n",
              "        async function convertToInteractive(key) {\n",
              "          const element = document.querySelector('#df-1da6861d-5ece-4af0-b0da-37b5dd22acfa');\n",
              "          const dataTable =\n",
              "            await google.colab.kernel.invokeFunction('convertToInteractive',\n",
              "                                                     [key], {});\n",
              "          if (!dataTable) return;\n",
              "\n",
              "          const docLinkHtml = 'Like what you see? Visit the ' +\n",
              "            '<a target=\"_blank\" href=https://colab.research.google.com/notebooks/data_table.ipynb>data table notebook</a>'\n",
              "            + ' to learn more about interactive tables.';\n",
              "          element.innerHTML = '';\n",
              "          dataTable['output_type'] = 'display_data';\n",
              "          await google.colab.output.renderOutput(dataTable, element);\n",
              "          const docLink = document.createElement('div');\n",
              "          docLink.innerHTML = docLinkHtml;\n",
              "          element.appendChild(docLink);\n",
              "        }\n",
              "      </script>\n",
              "    </div>\n",
              "  </div>\n",
              "  "
            ]
          },
          "metadata": {},
          "execution_count": 124
        }
      ]
    },
    {
      "cell_type": "markdown",
      "source": [
        "###### Accuracy\n",
        "TruePositive + TrueNegative/All Observations"
      ],
      "metadata": {
        "id": "Be6OrAN5n_UW"
      }
    },
    {
      "cell_type": "code",
      "source": [
        "acctest_rbf = round((cm_rbf[0,0]+cm_rbf[1,1])/(np.sum(cm_rbf)),3)\n",
        "acctest_rbf"
      ],
      "metadata": {
        "colab": {
          "base_uri": "https://localhost:8080/"
        },
        "id": "a1qJva1hec67",
        "outputId": "282a5fbd-f2b0-44dc-f7d7-4ff25b3d51f2"
      },
      "execution_count": null,
      "outputs": [
        {
          "output_type": "execute_result",
          "data": {
            "text/plain": [
              "0.73"
            ]
          },
          "metadata": {},
          "execution_count": 125
        }
      ]
    },
    {
      "cell_type": "markdown",
      "source": [
        "###### Sensitivity\n",
        "\n",
        "TruePositive/(TruePositive + FalseNegative)\n",
        "\n"
      ],
      "metadata": {
        "id": "sfSK7el8oWhL"
      }
    },
    {
      "cell_type": "code",
      "source": [
        "senstest_rbf = round(cm_rbf[1,1]/(cm_rbf[1,1]+cm_rbf[1,0]),3)\n",
        "senstest_rbf"
      ],
      "metadata": {
        "colab": {
          "base_uri": "https://localhost:8080/"
        },
        "id": "D17Gvk1MoouG",
        "outputId": "83bc3d1a-ed3c-4281-abb9-85ba5e7ed35a"
      },
      "execution_count": null,
      "outputs": [
        {
          "output_type": "execute_result",
          "data": {
            "text/plain": [
              "0.669"
            ]
          },
          "metadata": {},
          "execution_count": 126
        }
      ]
    },
    {
      "cell_type": "markdown",
      "source": [
        "###### Specificity\n",
        "TrueNegative/(TrueNegative + FalsePostive)"
      ],
      "metadata": {
        "id": "R79sxVmBpRGk"
      }
    },
    {
      "cell_type": "code",
      "source": [
        "spectest_rbf = round(cm_rbf[0,0]/(cm_rbf[0,0]+cm_rbf[0,1]),3)\n",
        "spectest_rbf"
      ],
      "metadata": {
        "colab": {
          "base_uri": "https://localhost:8080/"
        },
        "id": "ME6QzyycpQX2",
        "outputId": "8eb3a7ba-a274-459d-9dbd-4c3167938d13"
      },
      "execution_count": null,
      "outputs": [
        {
          "output_type": "execute_result",
          "data": {
            "text/plain": [
              "0.792"
            ]
          },
          "metadata": {},
          "execution_count": 127
        }
      ]
    },
    {
      "cell_type": "markdown",
      "source": [
        "#### SVM Classifier with Sigmoid Kernel\n",
        "\n",
        "The Sigmoid Kernel comes from the Neural Networks field, where the bipolar sigmoid function is often used as an activation function for artificial neurons.\n",
        "\n",
        "$$K(X_{1},X_{2})= tanh (\\alpha X_{1}^{T} X_{2} + coef0)$$\n",
        "\n",
        "The kernel must satisfy Mercer’s theorem, and that requires that the kernel be positive definite. However, the Sigmoid kernel, which, despite it is wide use, it is not positive semi-definite for certain values of its hyperparameters. \n",
        "\n",
        "The hyperparameter $\\alpha$ and $c$ must be properly chosen otherwise, the results may be drastically wrong, so much so that the SVM performs worse than random. \n",
        "\n",
        "\n"
      ],
      "metadata": {
        "id": "AQ7fy6fjiA0g"
      }
    },
    {
      "cell_type": "markdown",
      "source": [
        "##### Hyperparameters tuning\n",
        "\n",
        "Cross Validation Method was performed with 5-folds to optimize the hyperparameters using `f1` metric."
      ],
      "metadata": {
        "id": "3mVCEkqX0keW"
      }
    },
    {
      "cell_type": "code",
      "source": [
        "tuned_parameters = [{\"kernel\": [\"sigmoid\"], \"gamma\":[0.1, 0.01, 0.001, 0.0001], 'C':[0.01,0.1,0.2,0.5,1], \"coef0\":[0.1,0.2,0.5,1,5]}]\n",
        "\n",
        "\n",
        "grid_sig = GridSearchCV(SVC(), tuned_parameters, scoring='f1')\n",
        "grid_sig.fit(X_train,y_train)\n",
        "\n",
        "grid_sig.best_params_"
      ],
      "metadata": {
        "colab": {
          "base_uri": "https://localhost:8080/"
        },
        "id": "-l8nDChh0rLV",
        "outputId": "14d6b57f-bb12-4e9d-ffc2-7c32a2430ec6"
      },
      "execution_count": null,
      "outputs": [
        {
          "output_type": "execute_result",
          "data": {
            "text/plain": [
              "{'C': 0.5, 'coef0': 0.2, 'gamma': 0.001, 'kernel': 'sigmoid'}"
            ]
          },
          "metadata": {},
          "execution_count": 128
        }
      ]
    },
    {
      "cell_type": "code",
      "source": [
        "grid_sig.best_score_"
      ],
      "metadata": {
        "colab": {
          "base_uri": "https://localhost:8080/"
        },
        "id": "vdgdYE8m77rY",
        "outputId": "2d11ac52-3eb2-4795-fd39-6d6ee2685b46"
      },
      "execution_count": null,
      "outputs": [
        {
          "output_type": "execute_result",
          "data": {
            "text/plain": [
              "0.7203498038605686"
            ]
          },
          "metadata": {},
          "execution_count": 137
        }
      ]
    },
    {
      "cell_type": "markdown",
      "source": [
        "##### Training\n",
        "\n",
        "Now with the train data an SVC model is trained using the optimal hyperparameters `C = 1`, `gamma = 0.01` and `coef0 = 0.2`."
      ],
      "metadata": {
        "id": "QVe1idkc070t"
      }
    },
    {
      "cell_type": "code",
      "source": [
        "# Create a Classifer\n",
        "svm_sig = svm.SVC(kernel=\"sigmoid\", C = 0.5, gamma = 0.001, coef0=0.2)\n",
        "# Train the model\n",
        "svm_sig.fit(X_train,y_train)"
      ],
      "metadata": {
        "colab": {
          "base_uri": "https://localhost:8080/"
        },
        "id": "up7kUrHZhbqE",
        "outputId": "1d451c9e-3d6a-433f-8e0a-ce61b8264330"
      },
      "execution_count": null,
      "outputs": [
        {
          "output_type": "execute_result",
          "data": {
            "text/plain": [
              "SVC(C=0.5, coef0=0.2, gamma=0.001, kernel='sigmoid')"
            ]
          },
          "metadata": {},
          "execution_count": 130
        }
      ]
    },
    {
      "cell_type": "markdown",
      "source": [
        "##### Predictions and Performance\n",
        "\n",
        "We used the test data to estimate the outcome variable."
      ],
      "metadata": {
        "id": "4GM69vZl10gt"
      }
    },
    {
      "cell_type": "code",
      "source": [
        "# Predict the response\n",
        "pred_sig = svm_sig.predict(X_test)\n",
        "pred_sig[0:5]"
      ],
      "metadata": {
        "colab": {
          "base_uri": "https://localhost:8080/"
        },
        "id": "NlWx_Y3u1fxy",
        "outputId": "2feaa22a-c489-4d45-b542-00a2262c951b"
      },
      "execution_count": null,
      "outputs": [
        {
          "output_type": "execute_result",
          "data": {
            "text/plain": [
              "array([0, 0, 0, 0, 1], dtype=uint8)"
            ]
          },
          "metadata": {},
          "execution_count": 131
        }
      ]
    },
    {
      "cell_type": "markdown",
      "source": [
        "###### Confusion Matrix\n"
      ],
      "metadata": {
        "id": "q7zFdu9c2JIL"
      }
    },
    {
      "cell_type": "code",
      "source": [
        "cm_sig = confusion_matrix(y_test, pred_sig)\n",
        "pd.DataFrame(cm_sig, columns=['No','Yes'],index=[\"No\",\"Yes\"])"
      ],
      "metadata": {
        "colab": {
          "base_uri": "https://localhost:8080/",
          "height": 112
        },
        "outputId": "8b0c16d4-7cb6-4987-d211-8d3db95ccd03",
        "id": "N6tFHuUt2JIL"
      },
      "execution_count": null,
      "outputs": [
        {
          "output_type": "execute_result",
          "data": {
            "text/plain": [
              "      No  Yes\n",
              "No   105   20\n",
              "Yes   51   76"
            ],
            "text/html": [
              "\n",
              "  <div id=\"df-f460f0c4-6267-431b-9b54-38dcc91f64b0\">\n",
              "    <div class=\"colab-df-container\">\n",
              "      <div>\n",
              "<style scoped>\n",
              "    .dataframe tbody tr th:only-of-type {\n",
              "        vertical-align: middle;\n",
              "    }\n",
              "\n",
              "    .dataframe tbody tr th {\n",
              "        vertical-align: top;\n",
              "    }\n",
              "\n",
              "    .dataframe thead th {\n",
              "        text-align: right;\n",
              "    }\n",
              "</style>\n",
              "<table border=\"1\" class=\"dataframe\">\n",
              "  <thead>\n",
              "    <tr style=\"text-align: right;\">\n",
              "      <th></th>\n",
              "      <th>No</th>\n",
              "      <th>Yes</th>\n",
              "    </tr>\n",
              "  </thead>\n",
              "  <tbody>\n",
              "    <tr>\n",
              "      <th>No</th>\n",
              "      <td>105</td>\n",
              "      <td>20</td>\n",
              "    </tr>\n",
              "    <tr>\n",
              "      <th>Yes</th>\n",
              "      <td>51</td>\n",
              "      <td>76</td>\n",
              "    </tr>\n",
              "  </tbody>\n",
              "</table>\n",
              "</div>\n",
              "      <button class=\"colab-df-convert\" onclick=\"convertToInteractive('df-f460f0c4-6267-431b-9b54-38dcc91f64b0')\"\n",
              "              title=\"Convert this dataframe to an interactive table.\"\n",
              "              style=\"display:none;\">\n",
              "        \n",
              "  <svg xmlns=\"http://www.w3.org/2000/svg\" height=\"24px\"viewBox=\"0 0 24 24\"\n",
              "       width=\"24px\">\n",
              "    <path d=\"M0 0h24v24H0V0z\" fill=\"none\"/>\n",
              "    <path d=\"M18.56 5.44l.94 2.06.94-2.06 2.06-.94-2.06-.94-.94-2.06-.94 2.06-2.06.94zm-11 1L8.5 8.5l.94-2.06 2.06-.94-2.06-.94L8.5 2.5l-.94 2.06-2.06.94zm10 10l.94 2.06.94-2.06 2.06-.94-2.06-.94-.94-2.06-.94 2.06-2.06.94z\"/><path d=\"M17.41 7.96l-1.37-1.37c-.4-.4-.92-.59-1.43-.59-.52 0-1.04.2-1.43.59L10.3 9.45l-7.72 7.72c-.78.78-.78 2.05 0 2.83L4 21.41c.39.39.9.59 1.41.59.51 0 1.02-.2 1.41-.59l7.78-7.78 2.81-2.81c.8-.78.8-2.07 0-2.86zM5.41 20L4 18.59l7.72-7.72 1.47 1.35L5.41 20z\"/>\n",
              "  </svg>\n",
              "      </button>\n",
              "      \n",
              "  <style>\n",
              "    .colab-df-container {\n",
              "      display:flex;\n",
              "      flex-wrap:wrap;\n",
              "      gap: 12px;\n",
              "    }\n",
              "\n",
              "    .colab-df-convert {\n",
              "      background-color: #E8F0FE;\n",
              "      border: none;\n",
              "      border-radius: 50%;\n",
              "      cursor: pointer;\n",
              "      display: none;\n",
              "      fill: #1967D2;\n",
              "      height: 32px;\n",
              "      padding: 0 0 0 0;\n",
              "      width: 32px;\n",
              "    }\n",
              "\n",
              "    .colab-df-convert:hover {\n",
              "      background-color: #E2EBFA;\n",
              "      box-shadow: 0px 1px 2px rgba(60, 64, 67, 0.3), 0px 1px 3px 1px rgba(60, 64, 67, 0.15);\n",
              "      fill: #174EA6;\n",
              "    }\n",
              "\n",
              "    [theme=dark] .colab-df-convert {\n",
              "      background-color: #3B4455;\n",
              "      fill: #D2E3FC;\n",
              "    }\n",
              "\n",
              "    [theme=dark] .colab-df-convert:hover {\n",
              "      background-color: #434B5C;\n",
              "      box-shadow: 0px 1px 3px 1px rgba(0, 0, 0, 0.15);\n",
              "      filter: drop-shadow(0px 1px 2px rgba(0, 0, 0, 0.3));\n",
              "      fill: #FFFFFF;\n",
              "    }\n",
              "  </style>\n",
              "\n",
              "      <script>\n",
              "        const buttonEl =\n",
              "          document.querySelector('#df-f460f0c4-6267-431b-9b54-38dcc91f64b0 button.colab-df-convert');\n",
              "        buttonEl.style.display =\n",
              "          google.colab.kernel.accessAllowed ? 'block' : 'none';\n",
              "\n",
              "        async function convertToInteractive(key) {\n",
              "          const element = document.querySelector('#df-f460f0c4-6267-431b-9b54-38dcc91f64b0');\n",
              "          const dataTable =\n",
              "            await google.colab.kernel.invokeFunction('convertToInteractive',\n",
              "                                                     [key], {});\n",
              "          if (!dataTable) return;\n",
              "\n",
              "          const docLinkHtml = 'Like what you see? Visit the ' +\n",
              "            '<a target=\"_blank\" href=https://colab.research.google.com/notebooks/data_table.ipynb>data table notebook</a>'\n",
              "            + ' to learn more about interactive tables.';\n",
              "          element.innerHTML = '';\n",
              "          dataTable['output_type'] = 'display_data';\n",
              "          await google.colab.output.renderOutput(dataTable, element);\n",
              "          const docLink = document.createElement('div');\n",
              "          docLink.innerHTML = docLinkHtml;\n",
              "          element.appendChild(docLink);\n",
              "        }\n",
              "      </script>\n",
              "    </div>\n",
              "  </div>\n",
              "  "
            ]
          },
          "metadata": {},
          "execution_count": 132
        }
      ]
    },
    {
      "cell_type": "markdown",
      "source": [
        "###### Accuracy\n",
        "TruePositive + TrueNegative/All Observations"
      ],
      "metadata": {
        "id": "TTM4yg0V2JIL"
      }
    },
    {
      "cell_type": "code",
      "source": [
        "acctest_sig = round((cm_sig[0,0]+cm_sig[1,1])/(np.sum(cm_sig)),3)\n",
        "acctest_sig"
      ],
      "metadata": {
        "colab": {
          "base_uri": "https://localhost:8080/"
        },
        "outputId": "b905e44d-de7f-487e-ec2a-66822e59c8cd",
        "id": "k9T7nA_m2JIM"
      },
      "execution_count": null,
      "outputs": [
        {
          "output_type": "execute_result",
          "data": {
            "text/plain": [
              "0.718"
            ]
          },
          "metadata": {},
          "execution_count": 133
        }
      ]
    },
    {
      "cell_type": "markdown",
      "source": [
        "###### Sensitivity\n",
        "\n",
        "TruePositive/(TruePositive + FalseNegative)\n",
        "\n"
      ],
      "metadata": {
        "id": "T3sKpxCB2JIM"
      }
    },
    {
      "cell_type": "code",
      "source": [
        "senstest_sig = round(cm_sig[1,1]/(cm_sig[1,1]+cm_sig[1,0]),3)\n",
        "senstest_sig"
      ],
      "metadata": {
        "colab": {
          "base_uri": "https://localhost:8080/"
        },
        "outputId": "5b8291ad-4708-4805-a159-00a9153105af",
        "id": "a9jV8Ir62JIM"
      },
      "execution_count": null,
      "outputs": [
        {
          "output_type": "execute_result",
          "data": {
            "text/plain": [
              "0.598"
            ]
          },
          "metadata": {},
          "execution_count": 134
        }
      ]
    },
    {
      "cell_type": "markdown",
      "source": [
        "###### Specificity\n",
        "TrueNegative/(TrueNegative + FalsePostive)"
      ],
      "metadata": {
        "id": "2sGJ5rjA2JIM"
      }
    },
    {
      "cell_type": "code",
      "source": [
        "spectest_sig = round(cm_sig[0,0]/(cm_sig[0,0]+cm_sig[0,1]),3)\n",
        "spectest_sig"
      ],
      "metadata": {
        "colab": {
          "base_uri": "https://localhost:8080/"
        },
        "outputId": "32e0e123-496e-4b8d-8262-f6d78490f42a",
        "id": "XovT7Zqj2JIM"
      },
      "execution_count": null,
      "outputs": [
        {
          "output_type": "execute_result",
          "data": {
            "text/plain": [
              "0.84"
            ]
          },
          "metadata": {},
          "execution_count": 135
        }
      ]
    },
    {
      "cell_type": "markdown",
      "source": [
        "#### Random Forest"
      ],
      "metadata": {
        "id": "Gdq_X3FV_Zhi"
      }
    },
    {
      "cell_type": "markdown",
      "source": [
        "We developed a Random Forest Model to compare and validate the results from the Support Vector Classification model. "
      ],
      "metadata": {
        "id": "mdytULeTH8BG"
      }
    },
    {
      "cell_type": "markdown",
      "source": [
        "##### Hyperparameters tuning\n",
        "\n",
        "Cross Validation Method was performed with 5-folds to optimize the hyperparameters using metrics `f1`metric."
      ],
      "metadata": {
        "id": "iGQBY6srIUa3"
      }
    },
    {
      "cell_type": "code",
      "source": [
        "from sklearn.ensemble import RandomForestClassifier\n",
        "\n",
        "tuned_parameters = [{'max_depth':[3,5,10,15],\"n_estimators\":[10,30,50],'max_leaf_nodes':[5,25,50]}]\n",
        "\n",
        "grid_rf = GridSearchCV(RandomForestClassifier(), tuned_parameters, scoring='f1')\n",
        "grid_rf.fit(X_train,y_train)\n",
        "\n",
        "grid_rf.best_params_\n"
      ],
      "metadata": {
        "colab": {
          "base_uri": "https://localhost:8080/"
        },
        "id": "ksqIc_7LAk5i",
        "outputId": "c02d6905-91c1-455b-8d03-17c24a5301d3"
      },
      "execution_count": null,
      "outputs": [
        {
          "output_type": "execute_result",
          "data": {
            "text/plain": [
              "{'max_depth': 15, 'max_leaf_nodes': 5, 'n_estimators': 50}"
            ]
          },
          "metadata": {},
          "execution_count": 147
        }
      ]
    },
    {
      "cell_type": "code",
      "source": [
        "grid_rf.best_score_"
      ],
      "metadata": {
        "colab": {
          "base_uri": "https://localhost:8080/"
        },
        "id": "dEut2_hu8PbX",
        "outputId": "44a83b75-a008-4c04-dcd8-5c1dea983a3e"
      },
      "execution_count": null,
      "outputs": [
        {
          "output_type": "execute_result",
          "data": {
            "text/plain": [
              "0.7172967189445576"
            ]
          },
          "metadata": {},
          "execution_count": 148
        }
      ]
    },
    {
      "cell_type": "markdown",
      "source": [
        "##### Training\n",
        "\n",
        "Now with the train data a Random Forest model is trained using the optimal hyperparameters `max_depth = 15`, `max_leaf_nodes = 5`, and `n_estimators = 50`."
      ],
      "metadata": {
        "id": "UPH4uovRIsot"
      }
    },
    {
      "cell_type": "code",
      "source": [
        "# Create a classifier\n",
        "rf = RandomForestClassifier(max_depth=15, max_leaf_nodes=5, n_estimators=50)\n",
        "# Train the model\n",
        "rf.fit(X_train,y_train)"
      ],
      "metadata": {
        "colab": {
          "base_uri": "https://localhost:8080/"
        },
        "id": "Esvb-yOTJNnX",
        "outputId": "12030175-4239-4065-adf5-0daf6f724bb5"
      },
      "execution_count": null,
      "outputs": [
        {
          "output_type": "execute_result",
          "data": {
            "text/plain": [
              "RandomForestClassifier(max_depth=15, max_leaf_nodes=5, n_estimators=50)"
            ]
          },
          "metadata": {},
          "execution_count": 149
        }
      ]
    },
    {
      "cell_type": "markdown",
      "source": [
        "##### Predictions and Performance\n",
        "\n",
        "We used the test data to estimate the outcome variable."
      ],
      "metadata": {
        "id": "gJrjjDuZJHrT"
      }
    },
    {
      "cell_type": "code",
      "source": [
        "# Predict the response\n",
        "pred_rf = rf.predict(X_test)\n",
        "pred_rf[0:5]"
      ],
      "metadata": {
        "colab": {
          "base_uri": "https://localhost:8080/"
        },
        "outputId": "75c19b19-48d8-412e-e9fc-136d1ddd143a",
        "id": "YsPTvZBmJHrT"
      },
      "execution_count": null,
      "outputs": [
        {
          "output_type": "execute_result",
          "data": {
            "text/plain": [
              "array([0, 0, 0, 0, 1], dtype=uint8)"
            ]
          },
          "metadata": {},
          "execution_count": 150
        }
      ]
    },
    {
      "cell_type": "markdown",
      "source": [
        "###### Confusion Matrix\n"
      ],
      "metadata": {
        "id": "bgwp7PlxJHrU"
      }
    },
    {
      "cell_type": "code",
      "source": [
        "cm_rf = confusion_matrix(y_test, pred_rf)\n",
        "pd.DataFrame(cm_rf, columns=['No','Yes'],index=[\"No\",\"Yes\"])"
      ],
      "metadata": {
        "colab": {
          "base_uri": "https://localhost:8080/",
          "height": 112
        },
        "outputId": "f4bcb1df-1879-48f6-e7b0-43bcc04c4bd0",
        "id": "P1WTV4HOJHrV"
      },
      "execution_count": null,
      "outputs": [
        {
          "output_type": "execute_result",
          "data": {
            "text/plain": [
              "     No  Yes\n",
              "No   99   26\n",
              "Yes  38   89"
            ],
            "text/html": [
              "\n",
              "  <div id=\"df-1c999a83-33d3-480b-b075-968fc0935805\">\n",
              "    <div class=\"colab-df-container\">\n",
              "      <div>\n",
              "<style scoped>\n",
              "    .dataframe tbody tr th:only-of-type {\n",
              "        vertical-align: middle;\n",
              "    }\n",
              "\n",
              "    .dataframe tbody tr th {\n",
              "        vertical-align: top;\n",
              "    }\n",
              "\n",
              "    .dataframe thead th {\n",
              "        text-align: right;\n",
              "    }\n",
              "</style>\n",
              "<table border=\"1\" class=\"dataframe\">\n",
              "  <thead>\n",
              "    <tr style=\"text-align: right;\">\n",
              "      <th></th>\n",
              "      <th>No</th>\n",
              "      <th>Yes</th>\n",
              "    </tr>\n",
              "  </thead>\n",
              "  <tbody>\n",
              "    <tr>\n",
              "      <th>No</th>\n",
              "      <td>99</td>\n",
              "      <td>26</td>\n",
              "    </tr>\n",
              "    <tr>\n",
              "      <th>Yes</th>\n",
              "      <td>38</td>\n",
              "      <td>89</td>\n",
              "    </tr>\n",
              "  </tbody>\n",
              "</table>\n",
              "</div>\n",
              "      <button class=\"colab-df-convert\" onclick=\"convertToInteractive('df-1c999a83-33d3-480b-b075-968fc0935805')\"\n",
              "              title=\"Convert this dataframe to an interactive table.\"\n",
              "              style=\"display:none;\">\n",
              "        \n",
              "  <svg xmlns=\"http://www.w3.org/2000/svg\" height=\"24px\"viewBox=\"0 0 24 24\"\n",
              "       width=\"24px\">\n",
              "    <path d=\"M0 0h24v24H0V0z\" fill=\"none\"/>\n",
              "    <path d=\"M18.56 5.44l.94 2.06.94-2.06 2.06-.94-2.06-.94-.94-2.06-.94 2.06-2.06.94zm-11 1L8.5 8.5l.94-2.06 2.06-.94-2.06-.94L8.5 2.5l-.94 2.06-2.06.94zm10 10l.94 2.06.94-2.06 2.06-.94-2.06-.94-.94-2.06-.94 2.06-2.06.94z\"/><path d=\"M17.41 7.96l-1.37-1.37c-.4-.4-.92-.59-1.43-.59-.52 0-1.04.2-1.43.59L10.3 9.45l-7.72 7.72c-.78.78-.78 2.05 0 2.83L4 21.41c.39.39.9.59 1.41.59.51 0 1.02-.2 1.41-.59l7.78-7.78 2.81-2.81c.8-.78.8-2.07 0-2.86zM5.41 20L4 18.59l7.72-7.72 1.47 1.35L5.41 20z\"/>\n",
              "  </svg>\n",
              "      </button>\n",
              "      \n",
              "  <style>\n",
              "    .colab-df-container {\n",
              "      display:flex;\n",
              "      flex-wrap:wrap;\n",
              "      gap: 12px;\n",
              "    }\n",
              "\n",
              "    .colab-df-convert {\n",
              "      background-color: #E8F0FE;\n",
              "      border: none;\n",
              "      border-radius: 50%;\n",
              "      cursor: pointer;\n",
              "      display: none;\n",
              "      fill: #1967D2;\n",
              "      height: 32px;\n",
              "      padding: 0 0 0 0;\n",
              "      width: 32px;\n",
              "    }\n",
              "\n",
              "    .colab-df-convert:hover {\n",
              "      background-color: #E2EBFA;\n",
              "      box-shadow: 0px 1px 2px rgba(60, 64, 67, 0.3), 0px 1px 3px 1px rgba(60, 64, 67, 0.15);\n",
              "      fill: #174EA6;\n",
              "    }\n",
              "\n",
              "    [theme=dark] .colab-df-convert {\n",
              "      background-color: #3B4455;\n",
              "      fill: #D2E3FC;\n",
              "    }\n",
              "\n",
              "    [theme=dark] .colab-df-convert:hover {\n",
              "      background-color: #434B5C;\n",
              "      box-shadow: 0px 1px 3px 1px rgba(0, 0, 0, 0.15);\n",
              "      filter: drop-shadow(0px 1px 2px rgba(0, 0, 0, 0.3));\n",
              "      fill: #FFFFFF;\n",
              "    }\n",
              "  </style>\n",
              "\n",
              "      <script>\n",
              "        const buttonEl =\n",
              "          document.querySelector('#df-1c999a83-33d3-480b-b075-968fc0935805 button.colab-df-convert');\n",
              "        buttonEl.style.display =\n",
              "          google.colab.kernel.accessAllowed ? 'block' : 'none';\n",
              "\n",
              "        async function convertToInteractive(key) {\n",
              "          const element = document.querySelector('#df-1c999a83-33d3-480b-b075-968fc0935805');\n",
              "          const dataTable =\n",
              "            await google.colab.kernel.invokeFunction('convertToInteractive',\n",
              "                                                     [key], {});\n",
              "          if (!dataTable) return;\n",
              "\n",
              "          const docLinkHtml = 'Like what you see? Visit the ' +\n",
              "            '<a target=\"_blank\" href=https://colab.research.google.com/notebooks/data_table.ipynb>data table notebook</a>'\n",
              "            + ' to learn more about interactive tables.';\n",
              "          element.innerHTML = '';\n",
              "          dataTable['output_type'] = 'display_data';\n",
              "          await google.colab.output.renderOutput(dataTable, element);\n",
              "          const docLink = document.createElement('div');\n",
              "          docLink.innerHTML = docLinkHtml;\n",
              "          element.appendChild(docLink);\n",
              "        }\n",
              "      </script>\n",
              "    </div>\n",
              "  </div>\n",
              "  "
            ]
          },
          "metadata": {},
          "execution_count": 151
        }
      ]
    },
    {
      "cell_type": "markdown",
      "source": [
        "###### Accuracy\n",
        "TruePositive + TrueNegative/All Observations"
      ],
      "metadata": {
        "id": "8bnD0Na3JHrV"
      }
    },
    {
      "cell_type": "code",
      "source": [
        "acctest_rf = round((cm_rf[0,0]+cm_rf[1,1])/(np.sum(cm_rf)),3)\n",
        "acctest_rf"
      ],
      "metadata": {
        "colab": {
          "base_uri": "https://localhost:8080/"
        },
        "outputId": "1b264f36-314f-426e-d451-7407acab89c9",
        "id": "iImWm6QQJHrV"
      },
      "execution_count": null,
      "outputs": [
        {
          "output_type": "execute_result",
          "data": {
            "text/plain": [
              "0.746"
            ]
          },
          "metadata": {},
          "execution_count": 152
        }
      ]
    },
    {
      "cell_type": "markdown",
      "source": [
        "###### Sensitivity\n",
        "\n",
        "TruePositive/(TruePositive + FalseNegative)\n",
        "\n"
      ],
      "metadata": {
        "id": "MLVDmM2fJHrW"
      }
    },
    {
      "cell_type": "code",
      "source": [
        "senstest_rf = round(cm_rf[1,1]/(cm_rf[1,1]+cm_rf[1,0]),3)\n",
        "senstest_rf"
      ],
      "metadata": {
        "colab": {
          "base_uri": "https://localhost:8080/"
        },
        "outputId": "cee2a373-b0a0-4154-9ecd-9303cf3d3f9b",
        "id": "jXRa0YExJHrW"
      },
      "execution_count": null,
      "outputs": [
        {
          "output_type": "execute_result",
          "data": {
            "text/plain": [
              "0.701"
            ]
          },
          "metadata": {},
          "execution_count": 153
        }
      ]
    },
    {
      "cell_type": "markdown",
      "source": [
        "###### Specificity\n",
        "TrueNegative/(TrueNegative + FalsePostive)"
      ],
      "metadata": {
        "id": "W3ybmIPKJHrX"
      }
    },
    {
      "cell_type": "code",
      "source": [
        "spectest_rf = round(cm_rf[0,0]/(cm_rf[0,0]+cm_rf[0,1]),3)\n",
        "spectest_rf"
      ],
      "metadata": {
        "colab": {
          "base_uri": "https://localhost:8080/"
        },
        "outputId": "a596d8be-4425-4072-c3d8-98fbaacaeee0",
        "id": "jKMcutvXJHrX"
      },
      "execution_count": null,
      "outputs": [
        {
          "output_type": "execute_result",
          "data": {
            "text/plain": [
              "0.792"
            ]
          },
          "metadata": {},
          "execution_count": 154
        }
      ]
    },
    {
      "cell_type": "markdown",
      "source": [
        "#### Kernel SVC - Comparison"
      ],
      "metadata": {
        "id": "KMBtoiOa2wHd"
      }
    },
    {
      "cell_type": "code",
      "source": [
        "results=pd.DataFrame(np.array([acctest_rbf,acctest_sig,acctest_rf,senstest_rbf,senstest_sig,senstest_rf,spectest_rbf,spectest_sig,spectest_rf]).reshape(3,3),columns=[\"SVC_RBF\",\"SVC_Sigmoid\",\"RandomForest\"],index=[\"Accuracy\",\"Sensitivity\",\"Specificity\"])\n",
        "results=results.astype({\"SVC_RBF\":float})\n",
        "results=results.astype({\"SVC_Sigmoid\":float})\n",
        "results=results.astype({\"RandomForest\":float})\n",
        "results\n"
      ],
      "metadata": {
        "colab": {
          "base_uri": "https://localhost:8080/",
          "height": 143
        },
        "id": "PDyOoqPF7h3x",
        "outputId": "f4329136-e074-4650-ebbe-00b986358fbf"
      },
      "execution_count": null,
      "outputs": [
        {
          "output_type": "execute_result",
          "data": {
            "text/plain": [
              "             SVC_RBF  SVC_Sigmoid  RandomForest\n",
              "Accuracy       0.730        0.718         0.746\n",
              "Sensitivity    0.669        0.598         0.701\n",
              "Specificity    0.792        0.840         0.792"
            ],
            "text/html": [
              "\n",
              "  <div id=\"df-11a80f13-5874-49f1-a4c8-383b32e4dca8\">\n",
              "    <div class=\"colab-df-container\">\n",
              "      <div>\n",
              "<style scoped>\n",
              "    .dataframe tbody tr th:only-of-type {\n",
              "        vertical-align: middle;\n",
              "    }\n",
              "\n",
              "    .dataframe tbody tr th {\n",
              "        vertical-align: top;\n",
              "    }\n",
              "\n",
              "    .dataframe thead th {\n",
              "        text-align: right;\n",
              "    }\n",
              "</style>\n",
              "<table border=\"1\" class=\"dataframe\">\n",
              "  <thead>\n",
              "    <tr style=\"text-align: right;\">\n",
              "      <th></th>\n",
              "      <th>SVC_RBF</th>\n",
              "      <th>SVC_Sigmoid</th>\n",
              "      <th>RandomForest</th>\n",
              "    </tr>\n",
              "  </thead>\n",
              "  <tbody>\n",
              "    <tr>\n",
              "      <th>Accuracy</th>\n",
              "      <td>0.730</td>\n",
              "      <td>0.718</td>\n",
              "      <td>0.746</td>\n",
              "    </tr>\n",
              "    <tr>\n",
              "      <th>Sensitivity</th>\n",
              "      <td>0.669</td>\n",
              "      <td>0.598</td>\n",
              "      <td>0.701</td>\n",
              "    </tr>\n",
              "    <tr>\n",
              "      <th>Specificity</th>\n",
              "      <td>0.792</td>\n",
              "      <td>0.840</td>\n",
              "      <td>0.792</td>\n",
              "    </tr>\n",
              "  </tbody>\n",
              "</table>\n",
              "</div>\n",
              "      <button class=\"colab-df-convert\" onclick=\"convertToInteractive('df-11a80f13-5874-49f1-a4c8-383b32e4dca8')\"\n",
              "              title=\"Convert this dataframe to an interactive table.\"\n",
              "              style=\"display:none;\">\n",
              "        \n",
              "  <svg xmlns=\"http://www.w3.org/2000/svg\" height=\"24px\"viewBox=\"0 0 24 24\"\n",
              "       width=\"24px\">\n",
              "    <path d=\"M0 0h24v24H0V0z\" fill=\"none\"/>\n",
              "    <path d=\"M18.56 5.44l.94 2.06.94-2.06 2.06-.94-2.06-.94-.94-2.06-.94 2.06-2.06.94zm-11 1L8.5 8.5l.94-2.06 2.06-.94-2.06-.94L8.5 2.5l-.94 2.06-2.06.94zm10 10l.94 2.06.94-2.06 2.06-.94-2.06-.94-.94-2.06-.94 2.06-2.06.94z\"/><path d=\"M17.41 7.96l-1.37-1.37c-.4-.4-.92-.59-1.43-.59-.52 0-1.04.2-1.43.59L10.3 9.45l-7.72 7.72c-.78.78-.78 2.05 0 2.83L4 21.41c.39.39.9.59 1.41.59.51 0 1.02-.2 1.41-.59l7.78-7.78 2.81-2.81c.8-.78.8-2.07 0-2.86zM5.41 20L4 18.59l7.72-7.72 1.47 1.35L5.41 20z\"/>\n",
              "  </svg>\n",
              "      </button>\n",
              "      \n",
              "  <style>\n",
              "    .colab-df-container {\n",
              "      display:flex;\n",
              "      flex-wrap:wrap;\n",
              "      gap: 12px;\n",
              "    }\n",
              "\n",
              "    .colab-df-convert {\n",
              "      background-color: #E8F0FE;\n",
              "      border: none;\n",
              "      border-radius: 50%;\n",
              "      cursor: pointer;\n",
              "      display: none;\n",
              "      fill: #1967D2;\n",
              "      height: 32px;\n",
              "      padding: 0 0 0 0;\n",
              "      width: 32px;\n",
              "    }\n",
              "\n",
              "    .colab-df-convert:hover {\n",
              "      background-color: #E2EBFA;\n",
              "      box-shadow: 0px 1px 2px rgba(60, 64, 67, 0.3), 0px 1px 3px 1px rgba(60, 64, 67, 0.15);\n",
              "      fill: #174EA6;\n",
              "    }\n",
              "\n",
              "    [theme=dark] .colab-df-convert {\n",
              "      background-color: #3B4455;\n",
              "      fill: #D2E3FC;\n",
              "    }\n",
              "\n",
              "    [theme=dark] .colab-df-convert:hover {\n",
              "      background-color: #434B5C;\n",
              "      box-shadow: 0px 1px 3px 1px rgba(0, 0, 0, 0.15);\n",
              "      filter: drop-shadow(0px 1px 2px rgba(0, 0, 0, 0.3));\n",
              "      fill: #FFFFFF;\n",
              "    }\n",
              "  </style>\n",
              "\n",
              "      <script>\n",
              "        const buttonEl =\n",
              "          document.querySelector('#df-11a80f13-5874-49f1-a4c8-383b32e4dca8 button.colab-df-convert');\n",
              "        buttonEl.style.display =\n",
              "          google.colab.kernel.accessAllowed ? 'block' : 'none';\n",
              "\n",
              "        async function convertToInteractive(key) {\n",
              "          const element = document.querySelector('#df-11a80f13-5874-49f1-a4c8-383b32e4dca8');\n",
              "          const dataTable =\n",
              "            await google.colab.kernel.invokeFunction('convertToInteractive',\n",
              "                                                     [key], {});\n",
              "          if (!dataTable) return;\n",
              "\n",
              "          const docLinkHtml = 'Like what you see? Visit the ' +\n",
              "            '<a target=\"_blank\" href=https://colab.research.google.com/notebooks/data_table.ipynb>data table notebook</a>'\n",
              "            + ' to learn more about interactive tables.';\n",
              "          element.innerHTML = '';\n",
              "          dataTable['output_type'] = 'display_data';\n",
              "          await google.colab.output.renderOutput(dataTable, element);\n",
              "          const docLink = document.createElement('div');\n",
              "          docLink.innerHTML = docLinkHtml;\n",
              "          element.appendChild(docLink);\n",
              "        }\n",
              "      </script>\n",
              "    </div>\n",
              "  </div>\n",
              "  "
            ]
          },
          "metadata": {},
          "execution_count": 155
        }
      ]
    },
    {
      "cell_type": "code",
      "source": [
        "ax=results.plot(kind=\"bar\",width=.7,figsize=(10,7))\n",
        "plt.title(\"Performance by Kernel\")\n",
        "plt.xlabel(\"Metric\")\n",
        "plt.legend(loc='upper left')\n",
        "plt.ylim(0,1.2)\n",
        "\n",
        "for p in ax.patches:\n",
        "   ax.annotate('{:}'.format(p.get_height()), (p.get_x(), p.get_height()+.01))"
      ],
      "metadata": {
        "colab": {
          "base_uri": "https://localhost:8080/",
          "height": 501
        },
        "id": "VwvA4pV1MMF8",
        "outputId": "2e205998-0a49-481f-924b-7d586442bde6"
      },
      "execution_count": null,
      "outputs": [
        {
          "output_type": "display_data",
          "data": {
            "text/plain": [
              "<Figure size 720x504 with 1 Axes>"
            ],
            "image/png": "[encoded data removed]"
          },
          "metadata": {
            "needs_background": "light"
          }
        }
      ]
    },
    {
      "cell_type": "markdown",
      "source": [
        "#### Conclusions\n",
        "\n",
        "3 Models were developed:\n",
        "\n",
        "- Support Vector Classifier with Radial Basis Function Kernel\n",
        "- Support Vector Classifier with sigmoid Kernel\n",
        "- Random Forest\n",
        "\n",
        "After hyperparameter optimization we can see that the difference between RBF Kernel and Sigmoid Kernel in accuracy is 1.2 percentual points which could be enough reason to choose RBF, additionally this decision is reinforced by analyzing sensitivity because the difference is 7.1 percentual points, that is  more than the double of the difference in accuracy.\n",
        "\n",
        "The SVC requires a linear separable data and kernel hyperparameters optimization which can be sensible to a wrong selection. Due to the type of predictors we have in this problem, we used as a benchmark capability binary classification model *Random Forest* considering that the vast majority of the predictors are binary. \n",
        "\n",
        "The obtained results for Random Forest in comparison with SVC RBF showed a better performace in 2 metrics, accuracy 1.6 percentual points and sensitivity 3.2 percentual points.\n",
        "\n",
        "Due to the size of the data it is not considered the execution time for the models.\n",
        "\n",
        "Even though the highest accuracies are Random Forest *(73%)* and SVC with Radial Basis Function (RBF) Kernel *(74.6%)*, it can be considered as acceptable and can be used for mental health decision making, due to the problem’s context which tries to predict and model human behavior."
      ],
      "metadata": {
        "id": "TVipsyKp20nd"
      }
    }
  ],
  "metadata": {
    "colab": {
      "collapsed_sections": [],
      "name": "Optimization_SVM_Project.ipynb",
      "provenance": [],
      "toc_visible": true
    },
    "kernelspec": {
      "display_name": "Python 3",
      "name": "python3"
    },
    "language_info": {
      "name": "python"
    }
  },
  "nbformat": 4,
  "nbformat_minor": 0
}